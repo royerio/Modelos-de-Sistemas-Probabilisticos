{
 "cells": [
  {
   "cell_type": "markdown",
   "metadata": {},
   "source": [
    "---\n",
    "### Universidad de Costa Rica\n",
    "#### IE0405 - Modelos Probabilísticos de Señales y Sistemas\n",
    "\n",
    "Segundo semestre del 2020\n",
    "\n",
    "---\n",
    "\n",
    "[comment]: <> (Modificar esta sección con datos personales)\n",
    "\n",
    "* Estudiante: **Royer Méndez Ramírez**\n",
    "* Carné: **A43333**\n",
    "* Grupo: **2**\n",
    "\n",
    "# `L1` - *Introducción a Python*\n",
    "\n",
    "> Este es un ejercicio de introducción a Python como lenguaje para computación científica y cálculo numérico, utilizando ejemplos básicos de álgebra de conjuntos, análisis combinatorio y probabilidad clásica. Estas mismas herramientas (y otras) serán fundamentales en el resto del curso para apoyar la solución de problemas de la teoría de probabilidad.\n",
    "\n",
    "---"
   ]
  },
  {
   "cell_type": "code",
   "execution_count": null,
   "metadata": {},
   "outputs": [],
   "source": [
    "---\n",
    "## L1.1 - Álgebra de conjuntos\n",
    "\n",
    "### Crear funciones de operaciones de álgebra de conjuntos\n",
    "\n",
    "Es posible crear funciones que ejecuten álgebra de conjuntos sobre dos secuencias de datos. Para empezar, defínanse dos conjuntos `A` y `B` como listas."
   ]
  },
  {
   "cell_type": "code",
   "execution_count": null,
   "metadata": {},
   "outputs": [],
   "source": [
    "A = list((0, 1, 2, 3, 5, 8, 13, 21, 34, 55, 89, 144))\n",
    "B = list((2, 3, 5, 7, 11, 13, 17, 19, 23, 29, 31, 37))"
   ]
  },
  {
   "cell_type": "code",
   "execution_count": null,
   "metadata": {},
   "outputs": [],
   "source": [
    "* **Ejercicio 1**: Cree dos funciones llamadas `union` e `interseccion`, respectivamente, que reciban como argumentos a `A` y `B` y devuelvan una lista con su unión o su intersección.\n",
    "\n",
    "**Nota**: ¿Cómo hacer funciones? `Py1`."
   ]
  },
  {
   "cell_type": "code",
   "execution_count": 83,
   "metadata": {},
   "outputs": [
    {
     "name": "stdout",
     "output_type": "stream",
     "text": [
      "La intersección entre A y B es:  [2, 3, 5, 13]\n",
      "La unión de A y B es:  [0, 1, 2, 3, 5, 8, 13, 21, 34, 55, 89, 144, 2, 3, 5, 7, 11, 13, 17, 19, 23, 29, 31, 37]\n"
     ]
    }
   ],
   "source": [
    "# Ejercicio 1\n",
    "A = list((0, 1, 2, 3, 5, 8, 13, 21, 34, 55, 89, 144))\n",
    "B = list((2, 3, 5, 7, 11, 13, 17, 19, 23, 29, 31, 37))\n",
    "\n",
    "\n",
    "# A continuación se procede a determinar la intersección entre A y B.\n",
    "\n",
    "# Acá se realiza una recurrencia para determinar los números repetidos, una vez determinados se agregan a una lista nueva.\n",
    "def interseccion(A, B):\n",
    "    imp = []\n",
    "    for a in A:\n",
    "        if a in B:\n",
    "            imp.append(a)\n",
    "    return(imp)\n",
    "\n",
    "In = interseccion(A, B)\n",
    "print(\"La intersección entre A y B es: \",In)\n",
    "\n",
    "\n",
    "# A continuación se procede a determinar la unión de A y B. \n",
    "\n",
    "# Se crea una lista nueva denominada \"C\" que contiene los números de las listas A y B.\n",
    "def union(A, B):\n",
    "    A.extend(B)\n",
    "    C = []\n",
    "    for x in A:\n",
    "        C.append(x)\n",
    "    return(C)\n",
    "\n",
    "# A continuacion se crea una recurrencia para determinar cuáles números están repetidos y cuáles no,\n",
    "# los que no están repetidos se agregan a una nueva lista llamada \"únicos\"; los repetidos se eliminan (solo uno de los dos).\n",
    "    unicos = []\n",
    "    C_copia = list(C)\n",
    "    for y in C:\n",
    "        if y not in unicos:\n",
    "           unicos.append(y)\n",
    "        else:\n",
    "          C.remove(y)\n",
    "        return(C)\n",
    "Un = union(A, B)\n",
    "print(\"La unión de A y B es: \",Un)"
   ]
  },
  {
   "cell_type": "markdown",
   "metadata": {},
   "source": [
    "### Utilizando funciones nativas de Python\n",
    "\n",
    "Afortunadamente, ¡Python ya tiene estas y otras funciones de operaciones de conjuntos!\n",
    "\n",
    "Para aplicarlas, es necesario crear un nuevo tipo de secuencia (o \"contenedor de datos\", como se definió en `Py0`) del tipo llamado `set` (\"conjunto\", en inglés).\n",
    "\n",
    "Defínanse dos nuevos conjuntos `A` y `B`."
   ]
  },
  {
   "cell_type": "code",
   "execution_count": 3,
   "metadata": {},
   "outputs": [],
   "source": [
    "    A = set((0, 1, 2, 3, 5, 8, 13, 21, 34))\n",
    "    B = set((2, 3, 5, 7, 11, 13, 17, 19, 23, 29, 31, 37))"
   ]
  },
  {
   "cell_type": "markdown",
   "metadata": {},
   "source": [
    "Es posible crear estos conjuntos con una notación simplificada: \n",
    "\n",
    "```python\n",
    "A = {0, 1, 2, 3, ...}\n",
    "B = {2, 3, 5, 7, ...}\n",
    "```\n",
    "\n",
    "Las operaciones de conjuntos tienen dos notaciones: una como operadores y otra como métodos sobre los objetos tipo `set`.\n",
    "\n",
    "**Nota 1**: Recordar que $A \\cup B = B \\cup A$ y que $A \\cap B = B \\cap A$.\n",
    "\n",
    "**Nota 2**: La lista completa de funciones está en la [documentación](https://docs.python.org/3/library/stdtypes.html#set-types-set-frozenset) de Python y [aquí](https://realpython.com/python-sets/) hay ejemplos."
   ]
  },
  {
   "cell_type": "code",
   "execution_count": 82,
   "metadata": {},
   "outputs": [
    {
     "name": "stdout",
     "output_type": "stream",
     "text": [
      "{0, 1, 2, 3, 5, 7, 8, 11, 13, 17, 19, 21, 23, 29, 31, 34, 37} Cardinalidad: 17\n",
      "{0, 1, 2, 3, 5, 7, 8, 11, 13, 17, 19, 21, 23, 29, 31, 34, 37} Cardinalidad: 17\n",
      "{13, 2, 3, 5}\n",
      "{13, 2, 3, 5}\n"
     ]
    }
   ],
   "source": [
    "# Unión con el operador |\n",
    "U1 = A | B\n",
    "\n",
    "# Unión con el método union()\n",
    "U2 = A.union(B)\n",
    "\n",
    "# Intersección con el operador &\n",
    "I1 = A & B\n",
    "\n",
    "# Intersección con el método intersection()\n",
    "I2 = A.intersection(B)\n",
    "\n",
    "print(U1, 'Cardinalidad:', len(U1))\n",
    "print(U2, 'Cardinalidad:', len(U2))\n",
    "print(I1)\n",
    "print(I2)"
   ]
  },
  {
   "cell_type": "markdown",
   "metadata": {},
   "source": [
    "* **Ejercicio 2**: Sea $S = \\{ 0, 1, 2, \\ldots, 40 \\}$. Encuentre el resultado de las siguientes operaciones:\n",
    "    1. $A \\backslash B$\n",
    "    1. $B \\backslash A$\n",
    "    1. $A \\bigtriangleup B$\n",
    "    1. $\\overline{A}$\n",
    "    1. $\\overline{B}$\n",
    "    1. $\\overline{A \\cup B}$\n",
    "    \n",
    "**Nota**: No olvide los comentarios para explicar cada paso."
   ]
  },
  {
   "cell_type": "code",
   "execution_count": 85,
   "metadata": {},
   "outputs": [
    {
     "name": "stdout",
     "output_type": "stream",
     "text": [
      "{0, 1, 34, 8, 21}\n",
      "{0, 1, 34, 8, 21}\n",
      "{37, 7, 11, 17, 19, 23, 29, 31}\n",
      "{37, 7, 11, 17, 19, 23, 29, 31}\n",
      "{0, 1, 34, 37, 7, 8, 11, 17, 19, 21, 23, 29, 31}\n",
      "{4, 6, 7, 9, 10, 11, 12, 14, 15, 16, 17, 18, 19, 20, 22, 23, 24, 25, 26, 27, 28, 29, 30, 31, 33, 35, 36, 37, 38, 39, 40}\n",
      "{0, 1, 4, 6, 8, 9, 10, 12, 14, 15, 16, 18, 20, 21, 22, 24, 25, 26, 27, 28, 30, 33, 34, 35, 36, 38, 39, 40}\n",
      "{4, 6, 9, 10, 12, 14, 15, 16, 18, 20, 22, 24, 25, 26, 27, 28, 30, 33, 35, 36, 38, 39, 40}\n"
     ]
    }
   ],
   "source": [
    "# Ejercicio 2\n",
    "\n",
    "\n",
    "# 2.1 Obtener la diferencia de A\\B\n",
    "S= set((0, 1, 2, 3, 4, 5, 6, 7, 8, 9, 10 ,11 ,12 ,13 ,14 ,15 ,16 ,17 ,18 ,19 ,20 ,21 ,22 ,23 ,24 ,25 ,26 ,27 ,28 ,29 ,30 ,31 ,21 ,33 ,34 ,35 ,36 ,37 ,38 ,39 ,40))\n",
    "A = set((0, 1, 2, 3, 5, 8, 13, 21, 34))\n",
    "B = set((2, 3, 5, 7, 11, 13, 17, 19, 23, 29, 31, 37))\n",
    "\n",
    "\n",
    "\n",
    "D1 = A-B # Se utiliza el método operador de la \"diferencia\" para obtener la diferencia de A\\B.\n",
    "\n",
    "\n",
    "\n",
    "D2 = A.difference(B) # Se utiliza diferencia con el método diferencia() para obtener la diferencia de A\\B.\n",
    "\n",
    "print(D1)\n",
    "print(D2)\n",
    "\n",
    "\n",
    "\n",
    "# 2.2 Obtener la diferencia de B\\A.\n",
    "\n",
    "\n",
    "D3 = B-A # Se utiliza el metodo operador de la \"diferencia\" para obtener la diferencia de B\\A.\n",
    "\n",
    "D4 = B.difference(A) # Se utiliza diferencia con el metodo diferencia() para obtener la diferencia de B\\A.\n",
    "\n",
    "print(D3)\n",
    "print(D4)\n",
    "\n",
    "\n",
    "\n",
    "# 2.3 Obtener la diferencia simétrica de de A\\B.\n",
    "\n",
    "D5 = A^B # Se utiliza el método operador de la \"diferencia simétrica\" para obtener la diferencia de A\\B.\n",
    "\n",
    "print(D5)\n",
    "\n",
    "\n",
    "\n",
    "# 2.4 - Obtener el complemento de A.\n",
    "\n",
    "D6 = S-A\n",
    "print(D6)\n",
    "\n",
    "\n",
    "\n",
    "# 2.5 - Obtener el complemento de B.\n",
    "\n",
    "D7 = S-B\n",
    "print(D7)\n",
    "\n",
    "\n",
    "\n",
    "# 2.6 - Obtener el complemento de AUB.\n",
    "\n",
    "D8 = S - U1\n",
    "print(D8)"
   ]
  },
  {
   "cell_type": "markdown",
   "metadata": {},
   "source": [
    "---\n",
    "## L1.2 - Análisis combinatorio\n",
    "\n",
    "Dos funciones de análisis combinatorio están disponibles en el módulo `special` de [SciPy](https://docs.scipy.org/doc/scipy/reference/special.html#combinatorics): combinaciones (`comb`) y permutaciones (`perm`).\n",
    "\n",
    "También están disponibles en la librería estándar `math`, con idénticos resultados."
   ]
  },
  {
   "cell_type": "code",
   "execution_count": 80,
   "metadata": {},
   "outputs": [
    {
     "name": "stdout",
     "output_type": "stream",
     "text": [
      "142506.0\n",
      "17,100,720.0\n"
     ]
    }
   ],
   "source": [
    "from scipy.special import comb, perm\n",
    "\n",
    "a = comb(30, 5)\n",
    "b = perm(30, 5)\n",
    "\n",
    "print(a)\n",
    "print('{:,}'.format(b))"
   ]
  },
  {
   "cell_type": "markdown",
   "metadata": {},
   "source": [
    "* **Ejercicio 3**: En MPSS hay 70 estudiantes. ¿Cuántos grupos diferentes de cinco personas se pueden hacer para trabajo grupal durante las sesiones virtuales?"
   ]
  },
  {
   "cell_type": "code",
   "execution_count": 79,
   "metadata": {},
   "outputs": [
    {
     "name": "stdout",
     "output_type": "stream",
     "text": [
      "12,103,014.0\n"
     ]
    }
   ],
   "source": [
    "# Ejercicio 3\n",
    "\n",
    "# Se utiliza análisis combinatorio en el cual no importa el orden.\n",
    "a = comb(70, 5)\n",
    "\n",
    "print('{:,}'.format(a))"
   ]
  },
  {
   "cell_type": "markdown",
   "metadata": {},
   "source": [
    "* **Ejercicio 4**: Cinco estudiantes juegan un juego de mesa. ¿De cuántas formas distintas se puede conformar el podio?"
   ]
  },
  {
   "cell_type": "code",
   "execution_count": 90,
   "metadata": {},
   "outputs": [
    {
     "name": "stdout",
     "output_type": "stream",
     "text": [
      "60.0\n"
     ]
    }
   ],
   "source": [
    "# Ejercicio 4\n",
    "\n",
    "# Se utiliza análisis combinatorio en el cual sí importa el orden.\n",
    "b = perm(5, 3)\n",
    "\n",
    "print('{:,}'.format(b))"
   ]
  },
  {
   "cell_type": "markdown",
   "metadata": {},
   "source": [
    "---\n",
    "## L1.3 Definiciones de la probabilidad\n",
    "\n",
    "La definición clásica de la probabilidad establece que:\n",
    "\n",
    "$$\n",
    "P(A) = \\frac{n(A)}{n(S)}\n",
    "$$\n",
    "\n",
    "donde $A$ es el evento de interés (compuesto de $n(A)$ resultados elementales) y $S$ es el conjunto universal.\n",
    "\n",
    "* **Ejercicio 5**: Supóngase que en el grupo de MPSS hay 20 mujeres. Si se forman grupos de cinco personas en la sesión virtual, ¿cuál es la probabilidad de que un grupo escogido al azar sea de solo mujeres?"
   ]
  },
  {
   "cell_type": "code",
   "execution_count": 87,
   "metadata": {},
   "outputs": [
    {
     "name": "stdout",
     "output_type": "stream",
     "text": [
      "12,103,014.0\n",
      "La probabilidad de que un grupo escogido sea de solo mujeres es de 1.652480944002874e-06\n"
     ]
    }
   ],
   "source": [
    "# Ejercicio 5\n",
    "\n",
    "# Se realiza un análisis combinatorio en el cual no importa el orden.\n",
    "c = comb(70, 5)\n",
    "\n",
    "#se averigua la probabilidad de que uno de los grupos determinados anteriormente con el nombre \"c\" sea de mujeres.\n",
    "d = 20/c\n",
    "\n",
    "print('{:,}'.format(c))\n",
    "print(\"La probabilidad de que un grupo escogido sea de solo mujeres es de\", d)"
   ]
  },
  {
   "cell_type": "markdown",
   "metadata": {},
   "source": [
    "* **Ejercicio 6**: En el mismo grupo de MPSS hay 35 personas que están haciendo o ya hicieron el TCU, 23 personas que están haciendo o ya hicieron la práctica profesional, y 8 personas que están haciendo o ya hicieron ambas. Si se escoge una persona al azar, ¿cuál es la probabilidad de que esta persona esté haciendo a haya hecho el TCU o la práctica profesional (PP) o ambas? Es decir, $P(TCU \\cup PP)$."
   ]
  },
  {
   "cell_type": "code",
   "execution_count": 86,
   "metadata": {},
   "outputs": [
    {
     "name": "stdout",
     "output_type": "stream",
     "text": [
      "0.5\n",
      "0.32857142857142857\n",
      "0.11428571428571428\n",
      "P(A u B) = 0.7142857142857142\n"
     ]
    }
   ],
   "source": [
    "# Ejercicio 6\n",
    "\n",
    "\n",
    "# Frecuencia relativa de personas con el TCU.\n",
    "ProbTCU = 35/70\n",
    "\n",
    "print(ProbTCU)\n",
    "\n",
    "\n",
    "# Frecuencia relativa de personas con la Práctica Profesional.\n",
    "ProbPP = 23/70\n",
    "\n",
    "print(ProbPP)\n",
    "\n",
    "\n",
    "# Frecuencia relativa de personas con las dos.\n",
    "ProbTCUintPP = 8/70\n",
    "\n",
    "print(ProbTCUintPP)\n",
    "\n",
    "\n",
    "# Cálculo de la probabilidad de la unión.\n",
    "probTCUunionPP = ProbTCU + ProbPP - ProbTCUintPP\n",
    "\n",
    "print(\"P(A u B) =\", probTCUunionPP)\n"
   ]
  },
  {
   "cell_type": "markdown",
   "metadata": {},
   "source": [
    "Recuerde convertir este archivo con su solución para entregarlo en formato HTML (para visualizar en web), en **File > Download as > HTML (.html)** y ponerle el nombre `[carné].html` (ejemplo: B12345.html)."
   ]
  },
  {
   "cell_type": "markdown",
   "metadata": {},
   "source": [
    "---\n",
    "\n",
    "**Universidad de Costa Rica**\n",
    "\n",
    "Facultad de Ingeniería\n",
    "\n",
    "Escuela de Ingeniería Eléctrica\n",
    "\n",
    "---"
   ]
  }
 ],
 "metadata": {
  "kernelspec": {
   "display_name": "Python 3",
   "language": "python",
   "name": "python3"
  },
  "language_info": {
   "codemirror_mode": {
    "name": "ipython",
    "version": 3
   },
   "file_extension": ".py",
   "mimetype": "text/x-python",
   "name": "python",
   "nbconvert_exporter": "python",
   "pygments_lexer": "ipython3",
   "version": "3.8.3"
  }
 },
 "nbformat": 4,
 "nbformat_minor": 2
}
