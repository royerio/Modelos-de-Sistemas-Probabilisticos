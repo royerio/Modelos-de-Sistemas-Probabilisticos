{
 "cells": [
  {
   "cell_type": "markdown",
   "metadata": {},
   "source": [
    "---\n",
    "\n",
    "## Universidad de Costa Rica\n",
    "### Escuela de Ingeniería Eléctrica\n",
    "#### IE0405 - Modelos Probabilísticos de Señales y Sistemas\n",
    "\n",
    "Segundo semestre del 2020\n",
    "\n",
    "---\n",
    "\n",
    "* Estudiante: **Royer Méndez Ramírez**\n",
    "* Carné: **A43333**\n",
    "* Grupo: **2**\n",
    "\n",
    "\n",
    "# `P3` - *La demanda energética de electricidad en Costa Rica, parte II*\n",
    "\n",
    "> Esta actividad extiende el análisis y modelado realizados anteriormente sobre la demanda eléctrica del país a partir de una base de datos del Instituto Costarricense de Electricidad del 2019. El énfasis ahora es encontrar las relaciones que existen entre los modelos de cada hora analizada.\n",
    "\n",
    "---\n",
    "* Elaboración de nota teórica y demostración: **Jeaustin Sirias Chacón**, como parte de IE0499 - Proyecto Eléctrico: *Estudio y simulación de aplicaciones de la teoría de probabilidad en la ingeniería eléctrica*.\n",
    "* Revisión: **Fabián Abarca Calderón**\n"
   ]
  },
  {
   "cell_type": "markdown",
   "metadata": {},
   "source": [
    "---\n",
    "## 1. - Introducción\n",
    "\n",
    "Ampliando el análisis del Proyecto 2, ahora hacemos referencia a un **vector aleatorio** que contiene una familia de las variables aleatorias en cuestión. Es usual expresar este hecho como:\n",
    "\n",
    "$$\n",
    "\\vec{X} = (X_1, X_2, X_3, \\ldots, X_n)\n",
    "$$\n",
    "\n",
    "Hablar de un conjunto multidimensional $\\vec{X}$ tiene ciertas implicaciones. Cuando un vector aleatorio tiene dos variables aleatorias es posible darle una interpretación con un **sentido espacial**. Por ejemplo, supóngase que hay cierto vector aleatorio $\\vec{V} = (X, Y)$ de dos dimensiones (puesto que, en efecto, hay dos variables aleatorias en $\\vec{V}$). Hacer referecia ahora a un \"plano\" tiene sentido, en especial para evidenciar que cualquier par ordenado $(x_i, y_j)$ representa un punto aleatorio en el plano $XY$. \n",
    "\n",
    "Ahora bien, ¿qué ocurre cuando $\\vec{V}$ es $n$-dimensional?, ¿podría ser sencillo de manipular cinco o siete dimensiones, o es siquiera posible? Este proyecto programado se abordará desde un enfoque práctico para conocer las relaciones que existen en los datos de demanda energética."
   ]
  },
  {
   "cell_type": "markdown",
   "metadata": {},
   "source": [
    "---\n",
    "## 2. - La librería `fitter` para la determinación de modelos probabilísticos\n",
    "\n",
    "Hasta el momento en el curso se han encontrado los parámetros de mejor ajuste entre un conjunto de datos (una \"muestra\") y un modelo probabilístico particular, quizá elegido *arbitrariamente* o por un desarrollado sentido de la intuición, del tipo: \"hmm, esa distribución me parece exponencial\". Sin embargo, está claro que algunos modelos hacen una mejor descripción de los datos que otros, y no siempre se puede encontrar \"a puro ojo\". \n",
    "\n",
    "En el proyecto anterior se construyó una funcion programada específicamente para hallar el modelo de mejor ajuste para una población específica de muestras, para evidenciar una aplicación práctica de las variables aleatorias. Unas pocas distribuciones eran sometidas a prueba (distribución normal, gamma, beta, Burr tipo XII, etc.) como candidatas al mejor modelo de ajuste; no obstante, el módulo `stats` de la biblioteca SciPy ofrece hasta 80 distribuciones distintas, y sería algo tedioso probarlas todas (y hasta brusco en términos del tiempo de ejecución de Python). \n",
    "\n",
    "Para ello la biblioteca [`fitter`](https://fitter.readthedocs.io/en/latest/) será introducida en esta ocasión. Tal cual su nombre lo indica (*ajustador*, en español), esta herramienta provee módulos dedicados a probar todas las distribuciones de `stats`, concluyendo con \"la mejor\" distribución y sus parámetros de ajuste del mejor modelo. Los métodos a emplear del módulo `Fitter` (*Fitter* y *fitter* hacen referencia a términos distintos) son los siguientes:\n",
    "\n",
    "```python\n",
    "from fitter import Fitter # Invocación de la clase Fitter\n",
    "\n",
    "f = Fitter()              # Para instanciar la clase\n",
    "f.fit()                   # Para evaluar las 80+ distribuciones\n",
    "f.get_best()              # Para hallar el mejor modelo \n",
    "```\n",
    "\n",
    "### 2.1. - Instalación de `fitter`\n",
    "\n",
    "Puede verificar si la librería está instalada en su computadora revisando la lista de paquetes de Python, en la terminal\n",
    "\n",
    "```bash\n",
    "pip list\n",
    "```\n",
    "\n",
    "Si no está, se puede instalar con\n",
    "\n",
    "```bash\n",
    "pip install fitter\n",
    "```"
   ]
  },
  {
   "cell_type": "markdown",
   "metadata": {},
   "source": [
    "---\n",
    "## 3. - Funciones auxiliares\n",
    "\n",
    "Es útil implementar ciertas funciones que simplifiquen las asignaciones a resolver, no obstante, se observará que algunas de ellas \"heredan\" características e instrucciones que contenían las funciones en el anterior proyecto. \n",
    "\n",
    "### 3.1. - Funciones implementadas\n",
    "\n",
    "Se contará con las siguientes funciones:\n",
    "\n",
    "1. `extraer_datos(archivo_json, hora)`: Importa la base de datos completa y devuelve los datos de potencia a la hora indicada en un *array* de valores. Esta función es idéntica a la del proyecto anterior.\n",
    "\n",
    "* `distribucion_conjunta(X, Y, bins)`: Pide por parámetros dos variables aleatorias, $X$ y $Y$, y el número de divisones (`bins`) en el histograma. Visualiza un histograma bivariado y retorna los datos de la función bivariada discreta en dos formatos distintos.\n",
    "\n",
    "* `evaluar_modelos(datos)`: Encuentra la distribución de mejor ajuste y retorna los parámetros del modelo correspondiente para la muestra en `datos`.\n",
    "\n",
    "* `densidad_marginal()`: \n",
    "\n",
    "* `energia_diaria(archivo_json)`: Importa la base de datos completa en formato **JSON** y calcula la energía diaria usando [la regla del trapecio](https://es.wikipedia.org/wiki/Regla_del_trapecio) y retorna un vector con muestras diarias de energía.\n",
    "\n",
    "* `parametros_energia(vector_energia)`: Recibe por parámetro un vector de energía diaria y retorna la media y la desviación estándar basadas en las muestras ingresadas.\n",
    "\n",
    "Las llamadas a bibliotecas de Python de interés para este proyecto programado son:\n",
    "\n",
    "```python\n",
    "# Para manipular datos de interés y calcular resultados\n",
    "import numpy as np \n",
    "\n",
    "# Para evaluar el modelo de mejor ajuste en una población\n",
    "from fitter import Fitter \n",
    "\n",
    "# Para manipular y leer la base de datos de demanda\n",
    "import pandas as pd  \n",
    "\n",
    "# La música de la fiesta\n",
    "from scipy import stats    \n",
    "\n",
    "# Para visualizar resultados relevantes\n",
    "import matplotlib.pyplot as plt  \n",
    "\n",
    "# Para manipulación de formatos temporales\n",
    "from datetime import datetime    \n",
    "```\n",
    "\n",
    "#### 3.1.1. - Importación y acondicionamiento con `extraer_datos`"
   ]
  },
  {
   "cell_type": "code",
   "execution_count": 21,
   "metadata": {},
   "outputs": [],
   "source": [
    "import pandas as pd\n",
    "import numpy as np\n",
    "from datetime import datetime\n",
    "\n",
    "def extraer_datos(archivo_json, hora):\n",
    "    '''Importa la base de datos completa y devuelve los\n",
    "    datos de potencia a la hora indicada en un\n",
    "    array de valores.\n",
    "    '''\n",
    "    \n",
    "    # Cargar el \"DataFrame\"\n",
    "    df = pd.read_json(archivo_json) \n",
    "    \n",
    "    # Convertir en un array de NumPy\n",
    "    datos = np.array(df)                \n",
    "\n",
    "    # Crear vector con los valores demanda en una hora\n",
    "    demanda = []\n",
    "\n",
    "    # Extraer la demanda en la hora seleccionada\n",
    "    for i in range(len(datos)):\n",
    "        instante = datetime.fromisoformat(datos[i][0]['fechaHora'])\n",
    "        if instante.hour == hora:\n",
    "            demanda.append(datos[i][0]['MW'])\n",
    "\n",
    "    return demanda"
   ]
  },
  {
   "cell_type": "markdown",
   "metadata": {},
   "source": [
    "#### 3.1.2. - Parámetros y modelos de mejor ajuste con `distribucion_conjunta`"
   ]
  },
  {
   "cell_type": "code",
   "execution_count": 22,
   "metadata": {},
   "outputs": [],
   "source": [
    "import numpy as np\n",
    "import matplotlib.pyplot as plt\n",
    "from mpl_toolkits.mplot3d import Axes3D\n",
    "\n",
    "def distribucion_conjunta(X, Y, bins):\n",
    "    '''Pide por parámetros dos variables aleatorias\n",
    "    X y Y, así como el número de 'bins' o divisiones\n",
    "    a emplear para construir el histograma bivariado.\n",
    "    Crea una gráfica y retorna dos tablas de datos de\n",
    "    pares ordenados x, y y su probabilidad p asociada.\n",
    "    '''\n",
    "    np.seterr(all='ignore') # ignorar advertencias\n",
    "    \n",
    "    # Se inicializa la figura interactiva 3D\n",
    "    fig = plt.figure()\n",
    "    ax = fig.add_subplot(111, projection='3d')\n",
    "\n",
    "    # Se obtiene el plano de probabilidades para graficar el hist3D\n",
    "    hist, xbins, ybins = np.histogram2d(X, Y, bins=bins, normed=False)\n",
    "    hist = hist / sum(sum(hist))\n",
    "    xbins = (xbins + np.roll(xbins, -1))[:-1] / 2.0 \n",
    "    ybins = (ybins + np.roll(ybins, -1))[:-1] / 2.0 \n",
    "    \n",
    "    #Formatos de retorno para la funcion de densidad bivariada discreta\n",
    "    xyp = [[xbins[i], ybins[j], hist[i][j]] for i in range(bins) for j in range(bins)]\n",
    "    xy = hist \n",
    "\n",
    "    # Se construyen los arreglos para el ancho de Bins * Bins barras\n",
    "    xpos, ypos = np.meshgrid(xbins, ybins, indexing=\"ij\")\n",
    "    xpos = xpos.ravel()\n",
    "    ypos = ypos.ravel()\n",
    "    zpos = 0\n",
    "\n",
    "    # Se dimensiona el ancho visual de las barras (como un sólido).\n",
    "    dx = dy = 30 * np.ones_like(zpos)\n",
    "    dz = hist.ravel() \n",
    "\n",
    "    # Se visualiza el histograma 3D\n",
    "    ax.bar3d(xpos, ypos, zpos, dx, dy, dz, zsort='average')\n",
    "    ax.set_xlabel('La hora 1, $X$')\n",
    "    ax.set_ylabel('La hora 2, $Y$')\n",
    "    ax.set_zlabel('Probabilidad')\n",
    "    plt.show()\n",
    "\n",
    "    return xyp, xy, xbins, ybins\n",
    "    "
   ]
  },
  {
   "cell_type": "markdown",
   "metadata": {},
   "source": [
    "Obsérvese que la función anterior retorna los datos de la función bivariada sobre la base de las variables aleatorias $X$ y $Y$ en dos arreglos distintos `xyp` y `xy` con el objetivo de simplificar la manipulación de datos en las actividades por realizar. Lucen de la siguiente forma:\n",
    "\n",
    "**El formato `xyp`**\n",
    "\n",
    "```python\n",
    "    x   y      P\n",
    "0  x1  y1  0.001\n",
    "1  x1  y2  0.020\n",
    "2  x1  y3  0.092\n",
    "3  x2  y1  0.093\n",
    "4  x2  y2  0.083\n",
    ".   .   .    .\n",
    "n   xn  yn   Pn\n",
    "```\n",
    "\n",
    "**El formato `xy`**\n",
    "\n",
    "```python\n",
    "      y1      y2      y3      y4    .   yn\n",
    "x1  0.030  0.0400  0.0400  0.0400   .    .\n",
    "x2  0.090  0.0056  0.0400  0.0860   .    .\n",
    "x3  0.005  0.0450  0.0690  0.0010   .    .\n",
    "x4  0.060  0.0230  0.0025  0.0014   .    .\n",
    ".     .       .       .       .     .    .\n",
    "xn    .       .       .       .     .    .\n",
    "```\n",
    "\n",
    "En ambos casos, independientemente, se puede interpretar los elementos $x_n$ y $y_n$ (las variables `xbins` y `ybins`) como los puntos medios de las divisiones por dimensión (`bins`). Para este caso ambas dimensiones tendrán siempre la misma cantidad de divisiones, por la forma en que ha programado la función `distribucion_conjunta`.\n",
    "\n",
    "#### 3.1.3. - Determinación del modelo de mejor ajuste con `evaluar_modelos`"
   ]
  },
  {
   "cell_type": "code",
   "execution_count": 23,
   "metadata": {},
   "outputs": [],
   "source": [
    "from fitter import Fitter\n",
    "\n",
    "def evaluar_modelos(datos):\n",
    "    '''Evalúa las 80 distribuciones del módulo stats\n",
    "    y obtiene el el modelo de mejor ajuste para\n",
    "    la demanda anual de una hora específica. Retorna\n",
    "    el nombre de la mejor distribución y una tupla con\n",
    "    los parámetros del modelo.\n",
    "    '''\n",
    "    \n",
    "    np.seterr(all='ignore') # ignorar advertencias\n",
    "    \n",
    "    # Hallar el mejor ajuste con Fitter\n",
    "    f = Fitter(datos, timeout=120)\n",
    "    f.fit()\n",
    "    ajuste = f.get_best()\n",
    "    \n",
    "    for i in ajuste.keys():\n",
    "        dist, params = i, ajuste[i]\n",
    "\n",
    "    print('------------\\nDistribución\\n------------')\n",
    "    print(dist, '\\n')\n",
    "    print('----------\\nParámetros\\n----------')\n",
    "    print(params)\n",
    "\n",
    "    return dist, params"
   ]
  },
  {
   "cell_type": "markdown",
   "metadata": {},
   "source": [
    "#### 3.1.4. - Comparación de la densidad marginal y un modelo con `densidad_marginal`"
   ]
  },
  {
   "cell_type": "code",
   "execution_count": 24,
   "metadata": {},
   "outputs": [],
   "source": [
    "import numpy as np\n",
    "from scipy import stats\n",
    "import matplotlib.pyplot as plt\n",
    "\n",
    "def densidad_marginal(xy, bins, dist, params, eje):\n",
    "    '''Se elige eje='x' o eje='y' según sea el caso para la \n",
    "    densidad marginal en Y o en X. El parámetro 'xy' es la\n",
    "    tabla de datos, 'bins' es el vector de valores de potencia \n",
    "    xbins o ybins. Los parámetros 'dist' y 'params' corresponden\n",
    "    al modelo de mejor ajuste retornado por el fitter.\n",
    "    '''\n",
    "    \n",
    "    np.seterr(all='ignore') # ignorar advertencias\n",
    "    \n",
    "    # Hallar la densidad marginal de X o Y, según se indique en 'eje'\n",
    "    if eje == 'x':\n",
    "        filas = len(xy)\n",
    "        marginal = [sum(xy[i]) for i in range(filas)]\n",
    "    elif eje == 'y':\n",
    "        xy = xy.transpose()\n",
    "        filas = len(xy)\n",
    "        marginal = [sum(xy[i]) for i in range(filas)]\n",
    "\n",
    "    # Visualizar modelo de mejor ajuste\n",
    "    distro = getattr(stats, dist) \n",
    "    d = np.arange(min(bins)*0.96, max(bins)*1.04, 1)\n",
    "    pdf_plot = distro.pdf(d, *params)\n",
    "    plt.plot(d, pdf_plot*22, lw=3.5, color='r')\n",
    "    \n",
    "    # Visualizar función de densidad marginal\n",
    "    plt.bar(bins, marginal, width=12)\n",
    "    plt.title('Contraste: densidad marginal vs. modelo de mejor ajuste')\n",
    "    plt.xlabel('Potencia [MW]')\n",
    "    plt.ylabel('Densidad Probabilística')\n",
    "    plt.show()\n",
    "    \n",
    "    return marginal"
   ]
  },
  {
   "cell_type": "markdown",
   "metadata": {},
   "source": [
    "#### 3.1.5. - Calculando el consumo diario y parámetros relevantes con `energia_diaria`"
   ]
  },
  {
   "cell_type": "code",
   "execution_count": 25,
   "metadata": {},
   "outputs": [],
   "source": [
    "import pandas as pd\n",
    "import numpy as np\n",
    "from datetime import datetime\n",
    "\n",
    "def energia_diaria(archivo_json):\n",
    "    '''Importa la base de datos completa y devuelve\n",
    "    un vector con la energía diaria, en MWh.\n",
    "    '''\n",
    "    \n",
    "    # Cargar el \"DataFrame\"\n",
    "    df = pd.read_json(archivo_json) \n",
    "\n",
    "    # Convertir en un array de NumPy\n",
    "    datos = np.array(df)  \n",
    "\n",
    "    # Crear vector con todos los valores horarios de demanda\n",
    "    demanda = []\n",
    "\n",
    "    # Extraer la magnitud de la demanda para todas las horas\n",
    "    for hora in range(len(datos)):\n",
    "        instante = datetime.fromisoformat(datos[hora][0]['fechaHora'])\n",
    "        demanda.append(datos[hora][0]['MW'])\n",
    "\n",
    "    # Separar las magnitudes en grupos de 24 (24 h)\n",
    "    demanda = np.split(np.array(demanda), len(demanda) / 24)\n",
    "\n",
    "    # Crear vector para almacenar la enegia a partir de la demanda\n",
    "    energia = []\n",
    "\n",
    "    # Calcular la energia diaria por la regla del trapecio\n",
    "    for dia in range(len(demanda)):\n",
    "        E = round(np.trapz(demanda[dia]), 2)\n",
    "        energia.append(E)\n",
    "\n",
    "    return energia"
   ]
  },
  {
   "cell_type": "markdown",
   "metadata": {},
   "source": [
    "#### 3.1.6. - Determinación de parámetros del consumo diario con `parametros_energia`"
   ]
  },
  {
   "cell_type": "code",
   "execution_count": 26,
   "metadata": {},
   "outputs": [],
   "source": [
    "import numpy as np\n",
    "\n",
    "def parametros_energia(vector_energia):\n",
    "    '''Calcula los parámetros media y desviación\n",
    "    estándar en el vector de energía\n",
    "    '''\n",
    "\n",
    "    media = np.median(vector_energia)\n",
    "    desviacion = np.std(vector_energia)\n",
    "\n",
    "    return media, desviacion"
   ]
  },
  {
   "cell_type": "markdown",
   "metadata": {},
   "source": [
    "### 3.2. - Probando las funciones implementadas\n",
    "\n",
    "Ahora bien, se puede elaborar una breve demostración práctica basada en las funciones anteriormente implementadas, haciendo sus respectivas llamadas:"
   ]
  },
  {
   "cell_type": "code",
   "execution_count": 27,
   "metadata": {},
   "outputs": [
    {
     "data": {
      "image/png": "[encoded data removed]",
      "text/plain": [
       "<Figure size 432x288 with 1 Axes>"
      ]
     },
     "metadata": {
      "needs_background": "light"
     },
     "output_type": "display_data"
    }
   ],
   "source": [
    "# Se eligen las dos horas que desean estudiarse\n",
    "hora_1 = extraer_datos('demanda_2019.json', 3) \n",
    "hora_2 = extraer_datos('demanda_2019.json', 11) \n",
    "\n",
    "# Se ejecuta el análisis bivariado\n",
    "xyp, xy, xbins, ybins = distribucion_conjunta(hora_1, hora_2, bins = 10)"
   ]
  },
  {
   "cell_type": "code",
   "execution_count": 28,
   "metadata": {},
   "outputs": [
    {
     "data": {
      "text/html": [
       "\n",
       "            <div style=\"float: left; border: 1px solid black; width:500px\">\n",
       "              <div id=\"77f2448e-9488-4a8b-aabf-b4612e8bb825\" style=\"background-color:blue; width:0%\">&nbsp;</div>\n",
       "            </div>\n",
       "            <label id=\"11d4ee1b-2dfb-4ca8-b576-c8951f091efd\" style=\"padding-left: 10px;\" text = \"\"/>\n",
       "            "
      ],
      "text/plain": [
       "<IPython.core.display.HTML object>"
      ]
     },
     "metadata": {},
     "output_type": "display_data"
    },
    {
     "name": "stderr",
     "output_type": "stream",
     "text": [
      "C:\\Users\\Royer\\anaconda3\\lib\\site-packages\\scipy\\stats\\_distn_infrastructure.py:1715: IntegrationWarning: The integral is probably divergent, or slowly convergent.\n",
      "  return integrate.quad(self._mom_integ1, 0, 1, args=(m,)+args)[0]\n",
      "WARNING:root:SKIPPED kstwo distribution (taking more than 120 seconds)\n",
      "WARNING:root:SKIPPED rv_continuous distribution (taking more than 120 seconds)\n",
      "WARNING:root:SKIPPED rv_histogram distribution (taking more than 120 seconds)\n",
      "WARNING:root:SKIPPED levy_stable distribution (taking more than 120 seconds)\n"
     ]
    },
    {
     "name": "stdout",
     "output_type": "stream",
     "text": [
      "------------\n",
      "Distribución\n",
      "------------\n",
      "genlogistic \n",
      "\n",
      "----------\n",
      "Parámetros\n",
      "----------\n",
      "(0.6318766353534495, 952.2292025622228, 19.795927564550382)\n"
     ]
    }
   ],
   "source": [
    "# Se llama obtiene los parámetros de mejor ajuste para cada hora\n",
    "dist, params = evaluar_modelos(hora_1)\n",
    "\n",
    "# Nota: esta función es de más lenta ejecución"
   ]
  },
  {
   "cell_type": "code",
   "execution_count": 29,
   "metadata": {},
   "outputs": [
    {
     "data": {
      "image/png": "[encoded data removed]",
      "text/plain": [
       "<Figure size 432x288 with 1 Axes>"
      ]
     },
     "metadata": {
      "needs_background": "light"
     },
     "output_type": "display_data"
    },
    {
     "data": {
      "text/plain": [
       "[0.01568627450980392,\n",
       " 0.01568627450980392,\n",
       " 0.054901960784313725,\n",
       " 0.0784313725490196,\n",
       " 0.12156862745098039,\n",
       " 0.2235294117647059,\n",
       " 0.23137254901960785,\n",
       " 0.14901960784313723,\n",
       " 0.07058823529411765,\n",
       " 0.0392156862745098]"
      ]
     },
     "execution_count": 29,
     "metadata": {},
     "output_type": "execute_result"
    }
   ],
   "source": [
    "# Se contrasta la densidad marginal para cada hora, según su eje\n",
    "densidad_marginal(xy, xbins, dist, params, eje='x')"
   ]
  },
  {
   "cell_type": "markdown",
   "metadata": {},
   "source": [
    "---\n",
    "## 4. - Asignaciones del proyecto\n",
    "\n",
    "El análisis se hará sobre dos horas distintas del día, elegidas de forma aleatoria. \n",
    "\n",
    "**Asignación de horas**\n",
    "\n",
    "La siguiente función utiliza los dígitos numéricos del carné de cada estudiante para asignar las horas con las que se construirán la variables aleatoria $X$ y la variable aleatoria $Y$. \n",
    "\n",
    "**Ejemplo**: el carné B12345 utiliza los dígitos 12345 y obtiene las horas 19 y 7."
   ]
  },
  {
   "cell_type": "code",
   "execution_count": 30,
   "metadata": {},
   "outputs": [],
   "source": [
    "import random\n",
    "\n",
    "def horas_asignadas(digitos):\n",
    "    '''Elige una hora A en periodo punta\n",
    "    y una hora B de los otros periodos,\n",
    "    con los dígitos del carné como \"seed\"\n",
    "    '''\n",
    "    \n",
    "    random.seed(digitos)\n",
    "    punta = [11, 12, 18, 19, 20]\n",
    "    valle = [7, 8, 9, 10, 13, 14, 15, 16, 17]\n",
    "    nocturno = [21, 22, 23, 0, 1, 2, 3, 4, 5, 6]\n",
    "    otro = valle + nocturno\n",
    "    HX = punta[random.randrange(0, len(punta))]\n",
    "    HY = otro[random.randrange(0, len(otro))]\n",
    "    horas = 'Hora X: {}, hora Y: {}'.format(HX, HY)\n",
    "    return horas"
   ]
  },
  {
   "cell_type": "code",
   "execution_count": 31,
   "metadata": {},
   "outputs": [
    {
     "ename": "NameError",
     "evalue": "name 'digitos' is not defined",
     "output_type": "error",
     "traceback": [
      "\u001b[1;31m---------------------------------------------------------------------------\u001b[0m",
      "\u001b[1;31mNameError\u001b[0m                                 Traceback (most recent call last)",
      "\u001b[1;32m<ipython-input-31-791ebfa66db9>\u001b[0m in \u001b[0;36m<module>\u001b[1;34m\u001b[0m\n\u001b[1;32m----> 1\u001b[1;33m \u001b[0mmis_horas\u001b[0m \u001b[1;33m=\u001b[0m \u001b[0mhoras_asignadas\u001b[0m\u001b[1;33m(\u001b[0m\u001b[0mdigitos\u001b[0m\u001b[1;33m)\u001b[0m\u001b[1;33m\u001b[0m\u001b[1;33m\u001b[0m\u001b[0m\n\u001b[0m\u001b[0;32m      2\u001b[0m \u001b[0mprint\u001b[0m\u001b[1;33m(\u001b[0m\u001b[0mmis_horas\u001b[0m\u001b[1;33m)\u001b[0m\u001b[1;33m\u001b[0m\u001b[1;33m\u001b[0m\u001b[0m\n\u001b[0;32m      3\u001b[0m \u001b[1;33m\u001b[0m\u001b[0m\n\u001b[0;32m      4\u001b[0m \u001b[1;31m# Bonus: los \"docstrings\" y la función help()\u001b[0m\u001b[1;33m\u001b[0m\u001b[1;33m\u001b[0m\u001b[1;33m\u001b[0m\u001b[0m\n\u001b[0;32m      5\u001b[0m \u001b[0mhelp\u001b[0m\u001b[1;33m(\u001b[0m\u001b[0mhoras_asignadas\u001b[0m\u001b[1;33m)\u001b[0m\u001b[1;33m\u001b[0m\u001b[1;33m\u001b[0m\u001b[0m\n",
      "\u001b[1;31mNameError\u001b[0m: name 'digitos' is not defined"
     ]
    }
   ],
   "source": [
    "mis_horas = horas_asignadas(digitos)\n",
    "print(mis_horas)\n",
    "\n",
    "# Bonus: los \"docstrings\" y la función help()\n",
    "help(horas_asignadas)"
   ]
  },
  {
   "cell_type": "markdown",
   "metadata": {},
   "source": [
    "### 4.1. - Función distribución múltiple bivariada\n",
    "\n",
    "Es posible analizar una variable aleatoria en relación con otra. Para empezar, se puede visualizar su comportamiento \"conjunto\".\n",
    "\n",
    "* (10%) Visualice los datos de la variable aleatoria múltiple a las dos horas elegidas, en la forma de un histograma conjunto.\n",
    "* (15%) Determine las funciones de densidad marginales $f_X(x)$ y $f_Y(y)$ a partir de los datos y utilizando un modelo de mejor ajuste.\n",
    "* (10%) Determine los valores esperados $E[X]$ y $E[Y]$ de los datos.\n",
    "\n",
    "En este proyecto no deduciremos la *función de densidad conjunta*, que en general necesita de otros métodos numéricos para encontrar una expresión algebraica."
   ]
  },
  {
   "cell_type": "code",
   "execution_count": 32,
   "metadata": {},
   "outputs": [
    {
     "name": "stdout",
     "output_type": "stream",
     "text": [
      "Mi hora X: 18, Mi hora Y: 8\n"
     ]
    },
    {
     "data": {
      "image/png": "[encoded data removed]",
      "text/plain": [
       "<Figure size 432x288 with 1 Axes>"
      ]
     },
     "metadata": {
      "needs_background": "light"
     },
     "output_type": "display_data"
    },
    {
     "data": {
      "text/html": [
       "\n",
       "            <div style=\"float: left; border: 1px solid black; width:500px\">\n",
       "              <div id=\"1d3fca4f-41a0-4619-ac33-2cb501d582ad\" style=\"background-color:blue; width:0%\">&nbsp;</div>\n",
       "            </div>\n",
       "            <label id=\"dec5d919-e262-472e-a421-c80c28c4f3de\" style=\"padding-left: 10px;\" text = \"\"/>\n",
       "            "
      ],
      "text/plain": [
       "<IPython.core.display.HTML object>"
      ]
     },
     "metadata": {},
     "output_type": "display_data"
    },
    {
     "name": "stderr",
     "output_type": "stream",
     "text": [
      "C:\\Users\\Royer\\anaconda3\\lib\\site-packages\\scipy\\stats\\_distn_infrastructure.py:1715: IntegrationWarning: The integral is probably divergent, or slowly convergent.\n",
      "  return integrate.quad(self._mom_integ1, 0, 1, args=(m,)+args)[0]\n",
      "C:\\Users\\Royer\\anaconda3\\lib\\site-packages\\scipy\\stats\\_continuous_distns.py:4522: IntegrationWarning: The integral is probably divergent, or slowly convergent.\n",
      "  intg = integrate.quad(f, -xi, np.pi/2, **intg_kwargs)[0]\n",
      "WARNING:root:SKIPPED kstwo distribution (taking more than 120 seconds)\n",
      "C:\\Users\\Royer\\anaconda3\\lib\\site-packages\\scipy\\stats\\_distn_infrastructure.py:1715: IntegrationWarning: The algorithm does not converge.  Roundoff error is detected\n",
      "  in the extrapolation table.  It is assumed that the requested tolerance\n",
      "  cannot be achieved, and that the returned result (if full_output = 1) is \n",
      "  the best which can be obtained.\n",
      "  return integrate.quad(self._mom_integ1, 0, 1, args=(m,)+args)[0]\n",
      "WARNING:root:SKIPPED rv_continuous distribution (taking more than 120 seconds)\n",
      "WARNING:root:SKIPPED rv_histogram distribution (taking more than 120 seconds)\n",
      "WARNING:root:SKIPPED levy_stable distribution (taking more than 120 seconds)\n"
     ]
    },
    {
     "name": "stdout",
     "output_type": "stream",
     "text": [
      "------------\n",
      "Distribución\n",
      "------------\n",
      "skewnorm \n",
      "\n",
      "----------\n",
      "Parámetros\n",
      "----------\n",
      "(-9.254907078998214, 1577.5354882127058, 150.1882106447248)\n"
     ]
    },
    {
     "data": {
      "text/html": [
       "\n",
       "            <div style=\"float: left; border: 1px solid black; width:500px\">\n",
       "              <div id=\"e294ca7e-5532-474c-8b9a-61ba58388dec\" style=\"background-color:blue; width:0%\">&nbsp;</div>\n",
       "            </div>\n",
       "            <label id=\"6ecd9333-2483-4311-9716-e5d8ceb6677b\" style=\"padding-left: 10px;\" text = \"\"/>\n",
       "            "
      ],
      "text/plain": [
       "<IPython.core.display.HTML object>"
      ]
     },
     "metadata": {},
     "output_type": "display_data"
    },
    {
     "name": "stderr",
     "output_type": "stream",
     "text": [
      "C:\\Users\\Royer\\anaconda3\\lib\\site-packages\\scipy\\stats\\_distn_infrastructure.py:1715: IntegrationWarning: The integral is probably divergent, or slowly convergent.\n",
      "  return integrate.quad(self._mom_integ1, 0, 1, args=(m,)+args)[0]\n",
      "WARNING:root:SKIPPED kstwo distribution (taking more than 120 seconds)\n",
      "C:\\Users\\Royer\\anaconda3\\lib\\site-packages\\scipy\\stats\\_distn_infrastructure.py:1715: IntegrationWarning: The algorithm does not converge.  Roundoff error is detected\n",
      "  in the extrapolation table.  It is assumed that the requested tolerance\n",
      "  cannot be achieved, and that the returned result (if full_output = 1) is \n",
      "  the best which can be obtained.\n",
      "  return integrate.quad(self._mom_integ1, 0, 1, args=(m,)+args)[0]\n",
      "WARNING:root:SKIPPED rv_continuous distribution (taking more than 120 seconds)\n",
      "WARNING:root:SKIPPED rv_histogram distribution (taking more than 120 seconds)\n",
      "WARNING:root:SKIPPED levy_stable distribution (taking more than 120 seconds)\n"
     ]
    },
    {
     "name": "stdout",
     "output_type": "stream",
     "text": [
      "------------\n",
      "Distribución\n",
      "------------\n",
      "foldcauchy \n",
      "\n",
      "----------\n",
      "Parámetros\n",
      "----------\n",
      "(35.195745005622044, -0.23744281614566293, 38.957520461610954)\n"
     ]
    },
    {
     "data": {
      "image/png": "[encoded data removed]",
      "text/plain": [
       "<Figure size 432x288 with 1 Axes>"
      ]
     },
     "metadata": {
      "needs_background": "light"
     },
     "output_type": "display_data"
    },
    {
     "data": {
      "image/png": "[encoded data removed]",
      "text/plain": [
       "<Figure size 432x288 with 1 Axes>"
      ]
     },
     "metadata": {
      "needs_background": "light"
     },
     "output_type": "display_data"
    },
    {
     "name": "stdout",
     "output_type": "stream",
     "text": [
      "El consumo energético promedio para la hora 18 :\n",
      "1457.978549019608 MWh\n",
      "El consumo energético promedio para la hora 8 :\n",
      "1330.9543921568627 MWh\n"
     ]
    }
   ],
   "source": [
    "# Sección 4.1.1\n",
    "\n",
    "#Primero que nada, importo las librerias que se van a ocupar, y acondiciono la informacion suministrada para poder trabajar:\n",
    "\n",
    "import numpy as np\n",
    "from scipy import stats\n",
    "import matplotlib.pyplot as plt\n",
    "from fitter import Fitter\n",
    "from mpl_toolkits.mplot3d import Axes3D\n",
    "import pandas as pd\n",
    "from datetime import datetime\n",
    "\n",
    "def extraer_datos(archivo_json, hora):\n",
    "    '''Importa la base de datos completa y devuelve los\n",
    "    datos de potencia a la hora indicada en un\n",
    "    array de valores.\n",
    "    '''\n",
    "    \n",
    "    # Cargar el \"DataFrame\"\n",
    "    df = pd.read_json(archivo_json) \n",
    "    \n",
    "    # Convertir en un array de NumPy\n",
    "    datos = np.array(df)                \n",
    "\n",
    "    # Crear vector con los valores demanda en una hora\n",
    "    demanda = []\n",
    "\n",
    "    # Extraer la demanda en la hora seleccionada\n",
    "    for i in range(len(datos)):\n",
    "        instante = datetime.fromisoformat(datos[i][0]['fechaHora'])\n",
    "        if instante.hour == hora:\n",
    "            demanda.append(datos[i][0]['MW'])\n",
    "\n",
    "    return demanda\n",
    "\n",
    "#Seguido, averiguo las horas a las que debo trabajar\n",
    "#Mi numero de carné es A43333.\n",
    "\n",
    "import random\n",
    "digitos = 43333\n",
    "def horas_asignadas(digitos):\n",
    "    '''Elige una hora A en periodo punta\n",
    "    y una hora B de los otros periodos,\n",
    "    con los dígitos del carné como \"seed\"\n",
    "    '''\n",
    "    \n",
    "    random.seed(digitos)\n",
    "    punta = [11, 12, 18, 19, 20]\n",
    "    valle = [7, 8, 9, 10, 13, 14, 15, 16, 17]\n",
    "    nocturno = [21, 22, 23, 0, 1, 2, 3, 4, 5, 6]\n",
    "    otro = valle + nocturno\n",
    "    HX = punta[random.randrange(0, len(punta))]\n",
    "    HY = otro[random.randrange(0, len(otro))]\n",
    "    horas = 'Mi hora X: {}, Mi hora Y: {}'.format(HX, HY)\n",
    "    return horas\n",
    "\n",
    "mis_horas = horas_asignadas(digitos)\n",
    "print(mis_horas)\n",
    "\n",
    "\n",
    "hora1 = 18\n",
    "hora2 = 8\n",
    "\n",
    "# Se eligen las dos horas que desean estudiarse\n",
    "hora_1 = extraer_datos('demanda_2019.json', hora1) \n",
    "hora_2 = extraer_datos('demanda_2019.json', hora2) \n",
    "\n",
    "\n",
    "\n",
    "def distribucion_conjunta(X, Y, bins):\n",
    "    '''Pide por parámetros dos variables aleatorias\n",
    "    X y Y, así como el número de 'bins' o divisiones\n",
    "    a emplear para construir el histograma bivariado.\n",
    "    Crea una gráfica y retorna dos tablas de datos de\n",
    "    pares ordenados x, y y su probabilidad p asociada.\n",
    "    '''\n",
    "    np.seterr(all='ignore') # ignorar advertencias\n",
    "    \n",
    "    # Se inicializa la figura interactiva 3D\n",
    "    fig = plt.figure()\n",
    "    ax = fig.add_subplot(111, projection='3d')\n",
    "\n",
    "    # Se obtiene el plano de probabilidades para graficar el hist3D\n",
    "    hist, xbins, ybins = np.histogram2d(X, Y, bins=bins, normed=False)\n",
    "    hist = hist / sum(sum(hist))\n",
    "    xbins = (xbins + np.roll(xbins, -1))[:-1] / 2.0 \n",
    "    ybins = (ybins + np.roll(ybins, -1))[:-1] / 2.0 \n",
    "    \n",
    "    #Formatos de retorno para la funcion de densidad bivariada discreta\n",
    "    xyp = [[xbins[i], ybins[j], hist[i][j]] for i in range(bins) for j in range(bins)]\n",
    "    xy = hist \n",
    "\n",
    "    # Se construyen los arreglos para el ancho de Bins * Bins barras\n",
    "    xpos, ypos = np.meshgrid(xbins, ybins, indexing=\"ij\")\n",
    "    xpos = xpos.ravel()\n",
    "    ypos = ypos.ravel()\n",
    "    zpos = 0\n",
    "\n",
    "    # Se dimensiona el ancho visual de las barras (como un sólido).\n",
    "    dx = dy = 30 * np.ones_like(zpos)\n",
    "    dz = hist.ravel() \n",
    "\n",
    "    # Se visualiza el histograma 3D\n",
    "    ax.bar3d(xpos, ypos, zpos, dx, dy, dz, zsort='average')\n",
    "    ax.set_xlabel('La hora 1, $X$')\n",
    "    ax.set_ylabel('La hora 2, $Y$')\n",
    "    ax.set_zlabel('Probabilidad')\n",
    "    plt.show()\n",
    "\n",
    "    return xyp, xy, xbins, ybins\n",
    "\n",
    "\n",
    "\n",
    "# Se ejecuta el análisis bivariado\n",
    "xyp, xy, xbins, ybins = distribucion_conjunta(hora_1, hora_2, bins = 10)\n",
    "\n",
    "\n",
    "\n",
    "\n",
    "\n",
    "\n",
    "\n",
    "\n",
    "\n",
    "#Sección 4.1.2. Determine las funciones de densidad marginales 𝑓𝑋(𝑥)  y  𝑓𝑌(𝑦)  \n",
    "#a partir de los datos y utilizando un modelo de mejor ajuste.\n",
    "\n",
    "\n",
    "def evaluar_modelos(datos):\n",
    "    '''Evalúa las 80 distribuciones del módulo stats\n",
    "    y obtiene el el modelo de mejor ajuste para\n",
    "    la demanda anual de una hora específica. Retorna\n",
    "    el nombre de la mejor distribución y una tupla con\n",
    "    los parámetros del modelo.\n",
    "    '''\n",
    "    \n",
    "    np.seterr(all='ignore') # ignorar advertencias\n",
    "    \n",
    "    # Hallar el mejor ajuste con Fitter\n",
    "    f = Fitter(datos, timeout=120)\n",
    "    f.fit()\n",
    "    ajuste = f.get_best()\n",
    "    \n",
    "    for i in ajuste.keys():\n",
    "        dist, params = i, ajuste[i]\n",
    "\n",
    "    print('------------\\nDistribución\\n------------')\n",
    "    print(dist, '\\n')\n",
    "    print('----------\\nParámetros\\n----------')\n",
    "    print(params)\n",
    "\n",
    "    return dist, params\n",
    "\n",
    "#Se realiza el llamada para obtener los parametros del mejor ajuste para las horas implementadas\n",
    "distx, paramsx = evaluar_modelos(hora_1)\n",
    "disty, paramsy = evaluar_modelos(hora_2)\n",
    "\n",
    "def densidad_marginal(xy, bins, dist, params, eje):\n",
    "    '''Se elige eje='x' o eje='y' según sea el caso para la \n",
    "    densidad marginal en Y o en X. El parámetro 'xy' es la\n",
    "    tabla de datos, 'bins' es el vector de valores de potencia \n",
    "    xbins o ybins. Los parámetros 'dist' y 'params' corresponden\n",
    "    al modelo de mejor ajuste retornado por el fitter.\n",
    "    '''\n",
    "    \n",
    "    np.seterr(all='ignore') # ignorar advertencias\n",
    "    \n",
    "    # Hallar la densidad marginal de X o Y, según se indique en 'eje'\n",
    "    if eje == 'x':\n",
    "        filas = len(xy)\n",
    "        marginal = [sum(xy[i]) for i in range(filas)]\n",
    "    elif eje == 'y':\n",
    "        xy = xy.transpose()\n",
    "        filas = len(xy)\n",
    "        marginal = [sum(xy[i]) for i in range(filas)]\n",
    "\n",
    "    # Visualizar modelo de mejor ajuste\n",
    "    distro = getattr(stats, dist) \n",
    "    d = np.arange(min(bins)*0.96, max(bins)*1.04, 1)\n",
    "    pdf_plot = distro.pdf(d, *params)\n",
    "    plt.plot(d, pdf_plot*22, lw=3.5, color='r')\n",
    "    \n",
    "    # Visualizar función de densidad marginal\n",
    "    plt.bar(bins, marginal, width=12)\n",
    "    plt.title('Contraste: densidad marginal vs. modelo de mejor ajuste')\n",
    "    plt.xlabel('Potencia [MW]')\n",
    "    plt.ylabel('Densidad Probabilística')\n",
    "    plt.show()\n",
    "    \n",
    "    return marginal\n",
    "\n",
    "\n",
    "# Se contrasta la densidad marginal para cada hora, según su eje\n",
    "dmx = densidad_marginal(xy, xbins, distx, paramsx, eje='x')\n",
    "dmy = densidad_marginal(xy, ybins, disty, paramsy, eje='y')\n",
    "\n",
    "\n",
    "\n",
    "\n",
    "\n",
    "\n",
    "\n",
    "\n",
    "\n",
    "#4.1.3 Determine los valores esperados  𝐸[𝑋]  y  𝐸[𝑌]  de los datos\n",
    "\n",
    "#Determinar el consumo energético promedio para las horas\n",
    "EX1 = np.mean(hora_1)\n",
    "print(\"El consumo energético promedio para la hora\", hora1, \":\")\n",
    "print(EX1, \"MWh\")\n",
    "\n",
    "#Determinar el consumo energético promedio para las horas\n",
    "EX2 = np.mean(hora_2)\n",
    "print(\"El consumo energético promedio para la hora\", hora2, \":\")\n",
    "print(EX2, \"MWh\")"
   ]
  },
  {
   "cell_type": "markdown",
   "metadata": {},
   "source": [
    "### 4.2. - Correlación entre el consumo a distintas horas del día\n",
    "\n",
    "¿Un alto consumo de potencia a la hora $X$ está correlacionado con un alto consumo de potencia a la hora $Y$ del mismo día? Esta pregunta puede abordarse con las métricas de correlación y covarianza entre dos variables aleatorias.\n",
    "\n",
    "* (15%) Calcule la correlación entre $X$ y $Y$, $E[XY] = R_{XY}$. Para esto, puede utilizar los datos provistos y la versión discreta de la fórmula de correlación, dada por $$\\begin{aligned} R_{XY} = m_{11} & = E[XY] \\\\ & = \\sum_{x=-\\infty}^{\\infty} \\sum_{y=-\\infty}^{\\infty} x y ~ p(x, y) \\end{aligned}$$ donde $p(x, y)$ son las probabilidades asociadas a cada par $(x, y)$.\n",
    "* (10%) ¿Están correlacionadas estas variables? Recordar que la prueba de correlación es $E[XY] = E[X]E[Y]$ (puede aplicar una tolerancia del 5%).\n",
    "* (10%) Determine la covarianza y el índice de correlación de Pearson.\n",
    "* (10%) Análisis: ¿qué implica este valor del índice de correlación de Pearson?"
   ]
  },
  {
   "cell_type": "code",
   "execution_count": 33,
   "metadata": {},
   "outputs": [
    {
     "name": "stdout",
     "output_type": "stream",
     "text": [
      "R4.2.1/ La correlación entre x y y : 1949494.7960267798 \n",
      "\n",
      "R4.2.2/ Las variables no estan correlacionadas; las variables no estan linealmente asociadas en un grado alto de exactitud,como se mostrará a continuación. Además de que pueden escribirse de la forma: 𝐸[𝑋𝑌]=𝐸[𝑋]𝐸[𝑌]\n",
      "El valor de correlación es: 1940502.9534881369\n",
      "R4.2.3/\n",
      "La covarianza es: 8991.84253864293\n",
      "El coeficiente de Pearson finalmente es: 0.9836415564939046\n"
     ]
    },
    {
     "data": {
      "text/plain": [
       "'R4.2.4/ De la teoria se puede recordar que el índice de correlación de Pearson\\nindica qué tanta relacion tienen dos variables, significando \"cero\" la imposibilidad de determinar \\nen algún sentido de covariacion entre las variables, siendo el valor de \"-1\" una correlación perfecta negativa \\ny siendo el valor de \"1\" una correlación perfecta positiva.\\nPara nuestro caso de estudio el valor obtenido fué de 0.5974579230934379, lo que quiere decir que si una variable fué elevada\\nel valor de la otra también fué alto aunque no muy alto, Esto demuestra que no necesariamente \\nel hecho de que haya una correlación quiera decir que haya una gran causalidad'"
      ]
     },
     "execution_count": 33,
     "metadata": {},
     "output_type": "execute_result"
    },
    {
     "name": "stderr",
     "output_type": "stream",
     "text": [
      "C:\\Users\\Royer\\anaconda3\\lib\\site-packages\\scipy\\stats\\_continuous_distns.py:4522: IntegrationWarning: The integral is probably divergent, or slowly convergent.\n",
      "  intg = integrate.quad(f, -xi, np.pi/2, **intg_kwargs)[0]\n"
     ]
    }
   ],
   "source": [
    "#Calcule la correlación entre  𝑋  y  𝑌 ,  𝐸[𝑋𝑌]=𝑅𝑋𝑌.\n",
    "\n",
    "import numpy as np\n",
    "import scipy.stats as spsts\n",
    "def extraer_datos(archivo_json, hora):\n",
    "    '''Importa la base de datos completa y devuelve los\n",
    "    datos de potencia a la hora indicada en un\n",
    "    array de valores.\n",
    "    '''\n",
    "    \n",
    "    # Cargar el \"DataFrame\"\n",
    "    df = pd.read_json(archivo_json) \n",
    "    \n",
    "    # Convertir en un array de NumPy\n",
    "    datos = np.array(df)                \n",
    "\n",
    "    # Crear vector con los valores demanda en una hora\n",
    "    demanda = []\n",
    "\n",
    "    # Extraer la demanda en la hora seleccionada\n",
    "    for i in range(len(datos)):\n",
    "        instante = datetime.fromisoformat(datos[i][0]['fechaHora'])\n",
    "        if instante.hour == hora:\n",
    "            demanda.append(datos[i][0]['MW'])\n",
    "\n",
    "    return demanda\n",
    "\n",
    "\n",
    "\n",
    "Rxy = 0\n",
    "vecx = []\n",
    "vecy = []\n",
    "for i in xyp:\n",
    "    Rxy += i[0]*i[1]*i[2]\n",
    "    vecx.append(i[0])\n",
    "    vecy.append(i[1])\n",
    "print(\"R4.2.1/ La correlación entre x y y :\", Rxy, \"\\n\")\n",
    "\n",
    "\n",
    "\n",
    "#4.2.2 - ¿Están correlacionadas estas variables? Recordar que la prueba de correlación es  𝐸[𝑋𝑌]=𝐸[𝑋]𝐸[𝑌]\n",
    "\n",
    "print(\"R4.2.2/ Las variables no estan correlacionadas; las variables no estan linealmente asociadas en un grado alto de exactitud,como se mostrará a continuación. Además de que pueden escribirse de la forma: 𝐸[𝑋𝑌]=𝐸[𝑋]𝐸[𝑌]\")\n",
    "\n",
    "EX1 = np.mean(hora_1)\n",
    "EX2 = np.mean(hora_2)\n",
    "EX3 = EX1*EX2\n",
    "#print(EX1)\n",
    "#print(EX2)\n",
    "print(\"El valor de correlación es:\", EX3)\n",
    "\n",
    "\n",
    "#4.2.3 Determine la covarianza y el índice de correlación de Pearson.\n",
    "#Con base en la formula, la covarianza viene dada por: \n",
    "#Cxy = Rxy - E[X]E[Y]\n",
    "\n",
    "print(\"R4.2.3/\")\n",
    "\n",
    "Cxy = Rxy - EX3\n",
    "\n",
    "print(\"La covarianza es:\", Cxy)\n",
    "\n",
    "\n",
    "#Averiguando las desviaciones estandar de las variables:\n",
    "\n",
    "STDEX1 = spsts.tstd(hora_1)\n",
    "STDEX2 = spsts.tstd(hora_2)\n",
    "\n",
    "#print(\"Las desviaciones estandar de las variables son:\", STDEX1, STDEX2)\n",
    "\n",
    "\n",
    "'''Y el correspondiente indice de correlación de Pearson: p=Cxy/QxQy'''\n",
    "\n",
    "p=Cxy/(STDEX1*STDEX2)\n",
    "\n",
    "print(\"El coeficiente de Pearson finalmente es:\", p)\n",
    "\n",
    "\n",
    "\n",
    "\n",
    "#4.2.4 Que implica este valore de indice de correlacion de Pearson?\n",
    "\n",
    "'''R4.2.4/ De la teoria se puede recordar que el índice de correlación de Pearson\n",
    "indica qué tanta relacion tienen dos variables, significando \"cero\" la imposibilidad de determinar \n",
    "en algún sentido de covariacion entre las variables, siendo el valor de \"-1\" una correlación perfecta negativa \n",
    "y siendo el valor de \"1\" una correlación perfecta positiva.\n",
    "Para nuestro caso de estudio el valor obtenido fué de 0.5974579230934379, lo que quiere decir que si una variable fué elevada\n",
    "el valor de la otra también fué alto aunque no muy alto, Esto demuestra que no necesariamente \n",
    "el hecho de que haya una correlación quiera decir que haya una gran causalidad'''\n"
   ]
  },
  {
   "cell_type": "markdown",
   "metadata": {},
   "source": [
    "### 4.3. - Análisis de consumo de energía semanal\n",
    "\n",
    "Semana a semana hay un consumo total de **energía** en el país. Este valor cambia aleatoriamente, pero, ¿será posible modelar su distribución de probabilidad? Más aún, ¿es posible predecir su distribución utilizando el teorema del limíte central y el conocimiento del consumo *diario* de energía?\n",
    "\n",
    "Si el consumo de energía de *cada día de la semana* es una variable aleatoria $E_L, E_K, \\ldots, E_D$, entonces el consumo total semanal está dado por:\n",
    "\n",
    "$$\n",
    "S_E = E_L + E_K + E_M + E_J + E_V + E_S + E_D\n",
    "$$\n",
    "\n",
    "El teorema del límite central para la suma, en la versión estudiada, aplica para la suma de variables aleatorias **iid** (*independientes e idénticamente distribuidas*). Esta suposición **no** aplica para los datos estudiados dado que, por ejemplo, el consumo del lunes no es el mismo que el del domingo. Sin embargo, se hará la aproximación con unos parámetros únicos $\\mu$ (la media) y $\\sigma$ (la desviación estándar) para la energía consumida durante todos los días del año.\n",
    "\n",
    "Conocidos estos parámetros y considerando \"razonablemente grande\" la cantidad de elementos en la suma $N = 7$, el teorema establece que\n",
    "\n",
    "$$\n",
    "Z = \\frac{S_E - \\mu_{S_E}}{\\sigma_{S_E}} = \\frac{S_N - N\\mu}{\\sigma \\sqrt{N}}\n",
    "$$\n",
    "\n",
    "tendrá una distribución $Z \\sim \\mathcal{N}(0, 1)$, es decir, normal estandarizada.\n",
    "\n",
    "* (20 %) Evalúe la hipótesis descrita. Comente los resultados.\n",
    "\n",
    "Para esto puede crear un histograma con los resultados del consumo de energía *semanal*. Puede además calcular los parámetros $\\mu$ (la media) y $\\sigma$ (la desviación estándar) de la energía diaria consumida y estimar la distribución de $S_E$."
   ]
  },
  {
   "cell_type": "code",
   "execution_count": 49,
   "metadata": {},
   "outputs": [
    {
     "name": "stdout",
     "output_type": "stream",
     "text": [
      "El valor de la media es : 30459.03\n",
      "El valor de la desviación estandar es : 1765.1915331221633\n"
     ]
    },
    {
     "data": {
      "image/png": "[encoded data removed]",
      "text/plain": [
       "<Figure size 432x288 with 1 Axes>"
      ]
     },
     "metadata": {
      "needs_background": "light"
     },
     "output_type": "display_data"
    },
    {
     "data": {
      "text/plain": [
       "'De la información obtenida, la fórmula de Z quiere decir lo siguiente: Se le elimina la media a \"Se\" y se divide\\nentre la desviación estandard, que en este caso es un valor pequeño. Con esto se le elimina la dispersión y asumiendo que 7 es un número razonablemente grande.\\nTodo esto en conjunto hace que \"Se\" finalmente quede modificada en la forma de una distribución normal.\\n Arriba se muestran los valores de la media y de la desviacion estandar, y tambien se muestra el histograma de Z'"
      ]
     },
     "execution_count": 49,
     "metadata": {},
     "output_type": "execute_result"
    }
   ],
   "source": [
    "# 4.3. - Análisis de consumo de energía semanal:\n",
    "\n",
    "import pandas as pd\n",
    "import numpy as np\n",
    "from datetime import datetime\n",
    "import matplotlib.pyplot as plt\n",
    "\n",
    "def energia_diaria(archivo_json):\n",
    "    '''\n",
    "    Importa la base de datos completa y devuelve un\n",
    "    vector con la energía diaria, en MWh.\n",
    "    '''\n",
    "    \n",
    "    # Cargar el \"DataFrame\"\n",
    "    df = pd.read_json(archivo_json) \n",
    "\n",
    "    # Convertir en un array de NumPy\n",
    "    datos = np.array(df)  \n",
    "\n",
    "    # Crear vector con todos los valores horarios de demanda\n",
    "    demanda = []\n",
    "\n",
    "    # Extraer la magnitud de la demanda para todas las horas\n",
    "    for hora in range(len(datos)):\n",
    "        instante = datetime.fromisoformat(datos[hora][0]['fechaHora'])\n",
    "        demanda.append(datos[hora][0]['MW'])\n",
    "\n",
    "    # Separar las magnitudes en grupos de 24 (24 h)\n",
    "    demanda = np.split(np.array(demanda), len(demanda) / 24)\n",
    "\n",
    "    #Crear vector para almacenar la enegia a partir de la demanda\n",
    "    energia = []\n",
    "\n",
    "    #calcular la energia diaria por la Regla del Trapecio\n",
    "    for dia in range(len(demanda)):\n",
    "\n",
    "        E = round(np.trapz(demanda[dia]), 2)\n",
    "        energia.append(E)\n",
    "\n",
    "    return energia\n",
    "\n",
    "\n",
    "##########################################################\n",
    "def parametros_energia(vector_energia): # E\n",
    "    '''\n",
    "    Calcula los parámetros media y stDev\n",
    "    en del vector de energía, y los retorna\n",
    "    '''\n",
    "\n",
    "    media = np.median(vector_energia)\n",
    "    desviacion = np.std(vector_energia)\n",
    "\n",
    "    return media, desviacion #mu, sigma\n",
    "###########################################################\n",
    "\n",
    "# Cargamos la energia\n",
    "E = energia_diaria('demanda_2019.json')\n",
    "E = np.array(E)\n",
    "media, desviacion = parametros_energia(E)\n",
    "\n",
    "\n",
    "# Separamos la energia en grupos de 7\n",
    "E = E[0:252]\n",
    "E = np.split(E, 36) #energia, semanas\n",
    "\n",
    "\n",
    "semanal = [] # (36, 1) vector de E semanal\n",
    "for semana in range(36):\n",
    "  Se = sum(E[semana])\n",
    "  semanal.append(Se)\n",
    "\n",
    "semanal = np.array(semanal)\n",
    "\n",
    "Z = (semanal - (7 * media))/(np.sqrt(7)*desviacion)\n",
    "#print(Z)\n",
    "\n",
    "\n",
    "print(\"El valor de la media es :\", media)\n",
    "print(\"El valor de la desviación estandar es :\", desviacion)\n",
    "\n",
    "\n",
    "plt.hist(Z)\n",
    "plt.show()\n",
    "\n",
    "'''De la información obtenida, la fórmula de Z quiere decir lo siguiente: Se le elimina la media a \"Se\" y se divide\n",
    "entre la desviación estandard, que en este caso es un valor pequeño. Con esto se le elimina la dispersión y asumiendo que 7 es un número razonablemente grande.\n",
    "Todo esto en conjunto hace que \"Se\" finalmente quede modificada en la forma de una distribución normal.\n",
    " Arriba se muestran los valores de la media y de la desviacion estandar, y tambien se muestra el histograma de Z'''\n"
   ]
  },
  {
   "cell_type": "markdown",
   "metadata": {},
   "source": [
    "---\n",
    "\n",
    "### Universidad de Costa Rica\n",
    "#### Facultad de Ingeniería\n",
    "##### Escuela de Ingeniería Eléctrica\n",
    "\n",
    "---"
   ]
  }
 ],
 "metadata": {
  "kernelspec": {
   "display_name": "Python 3",
   "language": "python",
   "name": "python3"
  },
  "language_info": {
   "codemirror_mode": {
    "name": "ipython",
    "version": 3
   },
   "file_extension": ".py",
   "mimetype": "text/x-python",
   "name": "python",
   "nbconvert_exporter": "python",
   "pygments_lexer": "ipython3",
   "version": "3.8.3"
  }
 },
 "nbformat": 4,
 "nbformat_minor": 2
}
