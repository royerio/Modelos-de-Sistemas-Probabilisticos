{
 "cells": [
  {
   "cell_type": "markdown",
   "metadata": {},
   "source": [
    "---\n",
    "\n",
    "## Universidad de Costa Rica\n",
    "### Escuela de Ingeniería Eléctrica\n",
    "#### IE0405 - Modelos Probabilísticos de Señales y Sistemas\n",
    "\n",
    "Segundo semestre del 2020\n",
    "\n",
    "---\n",
    "\n",
    "* Estudiante: **Royer Méndez Ramírez**\n",
    "* Carné: **A43333**\n",
    "* Grupo: **2**\n",
    "\n",
    "\n",
    "# `P1` - *La ley de Benford desde cerca*\n",
    "\n",
    "> Este proyecto reúne herramientas de programación y la teoría clásica de la probabilidad en un estudio de aplicación con la ley de Benford como parte ejemplo de aplicación.\n",
    "\n",
    "---\n",
    "\n",
    "* Elaboración de nota teórica y demostración: **Jeaustin Sirias Chacón**, como parte de IE0499 - Proyecto Eléctrico: *Estudio y simulación de aplicaciones de la teoría de probabilidad en la ingeniería eléctrica*.\n",
    "* Revisión: **Fabián Abarca Calderón**"
   ]
  },
  {
   "cell_type": "markdown",
   "metadata": {},
   "source": [
    "## 0. - Introducción: ley de Benford\n",
    "\n",
    "### 0.1. - Historia\n",
    "\n",
    "En el año 1881, el astrónomo Simon Newcomb tuvo la curiosidad de observar que las hojas en uno de sus libros de tablas numéricas se encontraban notablemente más desgastadas cuando el primer dígito en las tablas de las páginas iniciaban particularmente con el número 1.\n",
    "\n",
    "\n",
    "<img align='center' src='https://media.giphy.com/media/DHqth0hVQoIzS/giphy.gif'>\n",
    "\n",
    "\n",
    "Este detalle lo condujo a postular que probabilísticamente era más posible dar con un 1 como dígito inicial, y así sucesivamente las posibilidades se reducían para los números (2, 3, ..., 9), un hecho que resulta contraintuitivo. \n",
    "\n",
    "Ya para 1930, el físico Frank Benford de forma independiente sometió la información histórica de eventos cotidianos que incluían constantes físicas, contenidos estadísticos poblacionales, áreas geográficas y otros con el objetivo de verificar que el primer dígito distinto de cero observado aparece con menor frecuencia con valores más grandes, bajo un comportamiento logarítmico. Posteriormente Ted Hill finalmente formalizó esta hipótesis de años dando paso a la *Ley de números anómalos de Benford - Newcomb*.\n",
    "\n",
    "Algunos escenarios donde se puede poner a prueba la ley de Benford pueden ser:\n",
    "\n",
    "* Información histórica de una variable climática: temperatura, precipitación, radiación solar...\n",
    "* El número de \"likes\" en cada post de una celebridad reconocida en Instagram.\n",
    "* El número en las placas vehiculares observadas durante todo un día en la GAM.\n",
    "* La cantidad de nuevos casos positivos, diarios *en cada cantón* desde el inicio de la pandemia del COVID-19 en Costa Rica.\n",
    "* Los nacimientos diarios a nivel nacional desde 1990 hasta el presente.\n",
    "* Los precios de los productos en un supermercado o en una tienda.\n",
    "\n",
    "### 0.2. - Actividad previa sugerida\n",
    "\n",
    "* El episodio 4 de la temporada 1 de la serie \"Conexiones\" en Netflix explora esta ley de forma entretenida, pueden echarle un vistazo.\n",
    "* También el video [\"Number 1 and Benford's Law - Numberphile\"](https://youtu.be/XXjlR2OK1kM) de Numberphile en YouTube (en inglés) es una buena introducción.\n",
    "\n",
    "### 0.3. - Postulado\n",
    "\n",
    "> Sea $i$ la primera cifra no nula en una magnitud aleatoria tal que $i = {1, 2, 3, ..., 9}$. La probabilidad de ocurrencia de $i$ es:\n",
    "> \n",
    "> $$\\displaystyle P(i) = \\log{(i + 1)} - \\log{i} $$"
   ]
  },
  {
   "cell_type": "markdown",
   "metadata": {},
   "source": [
    "## 1. - Implementación de una evaluación de la ley de Benford con datos reales\n",
    "\n",
    "Resulta relevante la posibilidad de implementar una breve rutina en Python capaz de corroborar la ley de Benford a partir de una base de datos local, de la que se intuye puede seguir dicho patrón. Para iniciar se importan las siguientes librerías científicas conocidas."
   ]
  },
  {
   "cell_type": "code",
   "execution_count": 871,
   "metadata": {
    "scrolled": true
   },
   "outputs": [],
   "source": [
    "import pandas as pd\n",
    "import numpy as np\n",
    "import matplotlib.pyplot as plt\n",
    "import matplotlib.gridspec as gridspec"
   ]
  },
  {
   "cell_type": "markdown",
   "metadata": {},
   "source": [
    "Es útil aprovechar los conocimientos en programación **orientada a procedimientos** para definir un flujo de ejecución sencillo. \n",
    "\n",
    "Una estrategia funcional es definir una cadena de funciones con procedimientos separados que operen sobre una base datos, con los pasos descritos a continuación. \n",
    "\n",
    "### 1.1. - Adquisición de datos\n",
    "\n",
    "Una función que lea la base de datos en formato `csv` y la convierta en una lista, o `array`. \n",
    "\n",
    "**Nota**: La función `loc` de Pandas se utiliza para acceder un grupo de filas y columnas por etiqueta."
   ]
  },
  {
   "cell_type": "code",
   "execution_count": 872,
   "metadata": {},
   "outputs": [],
   "source": [
    "import pandas as pd\n",
    "import numpy as np\n",
    "\n",
    "def leerdatos(datos, indice): \n",
    "    '''\n",
    "    Carga los datos contenidos en el\n",
    "    archivo 'datos.csv' y elige la columna indice\n",
    "    '''\n",
    "    \n",
    "    data = pd.read_csv(datos, header=None, skiprows=1, index_col=0)\n",
    "    \n",
    "    # Extraer lista con los valores a estudiar\n",
    "    vector = np.array(data.loc[str(indice)])\n",
    "    \n",
    "    return vector"
   ]
  },
  {
   "cell_type": "markdown",
   "metadata": {},
   "source": [
    "### 1.2. - Lectura del primer dígito\n",
    "\n",
    "Una función que tome la lista anterior y lea el primer dígito no nulo en cada uno de los elementos, ademas de contar su ocurrencia (frecuencia relativa) y probabilidad:"
   ]
  },
  {
   "cell_type": "code",
   "execution_count": 873,
   "metadata": {},
   "outputs": [],
   "source": [
    "import numpy as np\n",
    "\n",
    "def primerdigito(vector):\n",
    "    '''\n",
    "    Encuentra el número de ocurrencias de cada primer dígito,\n",
    "    junto con su probabilidad (frecuencia relativa), y la\n",
    "    suma total de dígitos presentes.\n",
    "    '''\n",
    "    \n",
    "    # Inicializar las variables a utilizar\n",
    "    digitoprimero = []\n",
    "    caracteres = []\n",
    "    ocurrencias = []\n",
    "\n",
    "    # Convertir en cadenas de caracteres y descartar ceros\n",
    "    for v in vector:\n",
    "        if v == 0: \n",
    "            continue\n",
    "        else: \n",
    "            caracteres.append(str(v))\n",
    "\n",
    "    # Leer el primer símbolo de cada cadena de caracteres\n",
    "    for c in caracteres:\n",
    "        if c[0] == '0': \n",
    "            digitoprimero.append(int(c[2]))\n",
    "        else: \n",
    "            digitoprimero.append(int(c[0]))\n",
    "\n",
    "    # Leer las repeticiones de 1, 2, ..., 9 en digitoprimero\n",
    "    for digito in range(1, 10):\n",
    "        contador = digitoprimero.count(digito)\n",
    "        ocurrencias.append(contador)\n",
    "    \n",
    "    # Calcular total y porcentajes\n",
    "    total = sum(ocurrencias)\n",
    "    porcentajes = np.array([i/total for i in ocurrencias])\n",
    "\n",
    "    # Retornar el número de ocurrencias, porcentajes y total \n",
    "    return ocurrencias, porcentajes, total"
   ]
  },
  {
   "cell_type": "markdown",
   "metadata": {},
   "source": [
    "### 1.3. - Determinación de valores esperados teóricos\n",
    "\n",
    "Una función que calcule el número de aciertos pronosticados para la cantidad de datos analizados, usando la probabilidad de ocurrencia de cada dígito, según Benford:"
   ]
  },
  {
   "cell_type": "code",
   "execution_count": 874,
   "metadata": {},
   "outputs": [],
   "source": [
    "import numpy as np\n",
    "\n",
    "def conteoesperado(total):\n",
    "    '''\n",
    "    Para una cantidad de datos total dada, encuentra\n",
    "    la cantidad esperada de ocurrencias de cada \n",
    "    dígito según la ley de Benford\n",
    "    '''\n",
    "    # Probabilidades con la ley de Benford\n",
    "    probabilidades = [np.log10(i+1) - np.log10(i) for i in range(1,10)]\n",
    "    \n",
    "    # Número de ocurrencias pronosticadas\n",
    "    cantidades = np.array([round(p*total) for p in probabilidades]) \n",
    "\n",
    "    return cantidades, probabilidades"
   ]
  },
  {
   "cell_type": "markdown",
   "metadata": {},
   "source": [
    "### 1.4. - Resumen y visualización de resultados\n",
    "\n",
    "Una función que visualice  e imprima un resumen sobre la base de los procedimientos anteriores:"
   ]
  },
  {
   "cell_type": "code",
   "execution_count": 875,
   "metadata": {},
   "outputs": [],
   "source": [
    "import numpy as np\n",
    "import matplotlib.pyplot as plt\n",
    "import matplotlib.gridspec as gridspec\n",
    "\n",
    "def resumen(dataset, ObsCounts, ExpCounts, pReal, bfVals):\n",
    "\n",
    "    print('Resumen de conteos por símbolo:')\n",
    "    print('Conteos observados: {}'.format(ObsCounts))\n",
    "    print('Conteos predichos: {}'.format(ExpCounts))\n",
    "    print(\"\\n\\n\\nProbabilidad de ocurrencia por símbolo (1, 2, ..., 9):\\n\")\n",
    "\n",
    "    for i in np.arange(0, 9, 1):\n",
    "        print('Para {num}: Probabilidad observada: {p1}, Probabilidad por Benford: {p2}'.format(num = i +1, \n",
    "                                                                                    p1 = round(pReal[i], 3),                                                                            p2 = round(bfVals[i]/100, 3)))\n",
    "    # Visualización\n",
    "    plt.rcParams['axes.grid'] = True # fijar grillas en On para cada subfigura\n",
    "    \n",
    "    fig = plt.figure(tight_layout=True, figsize=(11, 8))\n",
    "    figGrid = gridspec.GridSpec(2, 2)\n",
    "    rawData = fig.add_subplot(figGrid[0, 0])\n",
    "    dataHist = fig.add_subplot(figGrid[0, 1])\n",
    "    benfordFreq = fig.add_subplot(figGrid[1, 0])\n",
    "    benfordDist = fig.add_subplot(figGrid[1, 1])\n",
    "\n",
    "    # Eje x: linspaces\n",
    "    xData = np.arange(0, len(dataset), 1)\n",
    "    xDigits = np.arange(1, 10, 1)\n",
    "\n",
    "    # RawData plot\n",
    "    rawData.plot(xData, dataset, color='tab:red')\n",
    "    rawData.set_xlabel('Tiempo')\n",
    "    rawData.set_ylabel('Variable física')\n",
    "    rawData.set_title('Comportamiento histórico de la variable')\n",
    "\n",
    "    # dataHist\n",
    "    dataHist.hist(dataset, bins=25, color='g', histtype='bar', rwidth=0.8)\n",
    "    dataHist.set_ylabel('Frequencia')\n",
    "    dataHist.set_xlabel('Variable física ')\n",
    "    dataHist.set_title('Histograma')\n",
    "\n",
    "    # benfordDist\n",
    "    benfordDist.bar(xDigits, ObsCounts, \n",
    "                    color='teal', label='Ocurrencias observadas en datos')\n",
    "\n",
    "    for i in  xDigits:\n",
    "        if i == xDigits[-1]:\n",
    "            benfordDist.plot(i, ExpCounts[i-1], marker='s', markersize=8, color='firebrick', label='Ocurrencias esperadas según Benford')\n",
    "        else:\n",
    "            benfordDist.plot(i, ExpCounts[i-1], marker='s', markersize=8, color='firebrick')\n",
    "\n",
    "    benfordDist.set_xlabel('Primer dígito')\n",
    "    benfordDist.set_xticks(xDigits)\n",
    "    benfordDist.set_xticklabels(('1', '2', '3', '4', '5', \n",
    "                                 '6', '7', '8', '9'))\n",
    "    benfordDist.set_ylabel('Número de ocurrencias')\n",
    "    benfordDist.set_title('Distribución por cifra')\n",
    "    benfordDist.legend()\n",
    "\n",
    "    # benfordFreq plot\n",
    "    benfordFreq.plot(xDigits, pReal, \n",
    "                     color='orangered', lw=3, \n",
    "                     label='Probabilidad por ocurrencias observadas')\n",
    "    benfordFreq.plot(xDigits, bfVals, \n",
    "                     '--', color='tab:blue', lw=3, \n",
    "                     label='Lo que predijo Benford')\n",
    "    benfordFreq.set_xlabel('Primer dígito')\n",
    "    benfordFreq.set_ylabel('Probabilidad')\n",
    "    benfordFreq.set_title('Probabilidad por dígito dominante')\n",
    "\n",
    "    benfordFreq.legend()\n",
    "\n",
    "    fig.align_labels()\n",
    "    plt.show()"
   ]
  },
  {
   "cell_type": "markdown",
   "metadata": {},
   "source": [
    "### ¿Y ahora?\n",
    "\n",
    "Entonces bien, se facilita hacer llamadas a funciones en el orden anterior. Para este ejemplo se utilizará una base de datos que contiene los registros de la precipitación histórica en decadías desde 1985 hasta 2019 para algunas localizaciones de Costa Rica. Dicho dominio es un candidato aceptable dado a que:\n",
    "\n",
    "* Se cuenta con una elevada cantidad de muestras. *¿Cuántas decadías hay desde 1985 hasta 2019?*\n",
    "* La precipitación es una variable física, por lo que no son valores aleatorios.\n",
    "\n",
    "\n",
    "\n",
    "\n",
    "**Un dato interesante**: Un mes tiene tres [decadías](http://iridl.ldeo.columbia.edu/maproom/Food_Security/Locusts/Regional/Dekadal_Rainfall/index.html) (*dekadal*, en inglés), en donde las dos primeras tienen 10 días; es decir, 20 en total. La tercera decadía depende de cuántos días le resten al mes para terminar; por ejemplo, la tercera decadía de enero tiene 11, la de febrero, a lo sumo 9 (si es un año bisiesto) y del mismo modo para los meses siguientes. En total un año contendrá 36 decadías."
   ]
  },
  {
   "cell_type": "code",
   "execution_count": 876,
   "metadata": {
    "scrolled": false
   },
   "outputs": [
    {
     "name": "stdout",
     "output_type": "stream",
     "text": [
      "Resumen de conteos por símbolo:\n",
      "Conteos observados: [372, 176, 104, 103, 78, 65, 59, 65, 60]\n",
      "Conteos predichos: [326. 191. 135. 105.  86.  72.  63.  55.  50.]\n",
      "\n",
      "\n",
      "\n",
      "Probabilidad de ocurrencia por símbolo (1, 2, ..., 9):\n",
      "\n",
      "Para 1: Probabilidad observada: 0.344, Probabilidad por Benford: 0.003\n",
      "Para 2: Probabilidad observada: 0.163, Probabilidad por Benford: 0.002\n",
      "Para 3: Probabilidad observada: 0.096, Probabilidad por Benford: 0.001\n",
      "Para 4: Probabilidad observada: 0.095, Probabilidad por Benford: 0.001\n",
      "Para 5: Probabilidad observada: 0.072, Probabilidad por Benford: 0.001\n",
      "Para 6: Probabilidad observada: 0.06, Probabilidad por Benford: 0.001\n",
      "Para 7: Probabilidad observada: 0.055, Probabilidad por Benford: 0.001\n",
      "Para 8: Probabilidad observada: 0.06, Probabilidad por Benford: 0.001\n",
      "Para 9: Probabilidad observada: 0.055, Probabilidad por Benford: 0.0\n"
     ]
    },
    {
     "data": {
      "image/png": "[encoded data removed]",
      "text/plain": [
       "<Figure size 792x576 with 4 Axes>"
      ]
     },
     "metadata": {
      "needs_background": "light"
     },
     "output_type": "display_data"
    }
   ],
   "source": [
    "'''\n",
    "Cargar la base de datos.\n",
    "La base de datos tiene las siguientes conjuntos:\n",
    "Poás, Liberia, Carara, La Pita, Prusia, Rodeo...\n",
    "'''\n",
    "data = leerdatos('rainfall.csv', 'Poas') \n",
    "\n",
    "'''\n",
    "Calcular el número de ocurrencias de {1, 2, ..., 9}\n",
    "en el primer digito de cada elemento de la lista.\n",
    "'''\n",
    "ocurrencias, prob_ocurrencias, conteos_totales = primerdigito(data)\n",
    "\n",
    "'''\n",
    "Calcular las ocurrencias esperadas según la ley de Benford\n",
    "'''\n",
    "ocurrencias_predichas, prob_benford = conteoesperado(conteos_totales)\n",
    "\n",
    "'''\n",
    "Visualizar los resultados\n",
    "'''\n",
    "resumen(data, ocurrencias, ocurrencias_predichas, prob_ocurrencias, prob_benford)"
   ]
  },
  {
   "cell_type": "markdown",
   "metadata": {},
   "source": [
    "### Observaciones\n",
    "\n",
    "* La mayoría de las muestras de precipitación ocurridas tienen magnitudes entre los 0 mm y 100 mm.\n",
    "* Se corrobora que el número de ocurrencias por símbolo en el dígito dominante es menos frecuente conforme aumenta su valor; por ejemplo, 1 obtuvo un 34.4 % de las ocurrencias; 2, un 16.3 % y 9, un 4.6 %. *¿Sigue este comportamiento la ley de Benford?*"
   ]
  },
  {
   "cell_type": "markdown",
   "metadata": {},
   "source": [
    "## 2. - Asignaciones del proyecto\n",
    "\n",
    "Las siguientes secciones debe completarlas cada estudiante con ayuda de la teoría y funciones presentadas anteriormente, y utilizando la teoría clásica de probabilidad, en particular recordando el teorema de Bayes:\n",
    "\n",
    "$$\n",
    "P(A \\mid B) = \\frac{P(A) P(B \\mid A)}{P(B)}\n",
    "$$\n",
    "\n",
    "### 2.1. - Estudio de las probabilidades condicionales de ocurrencia del segundo dígito\n",
    "\n",
    "La ley de Benford establece una probabilidad de ocurrencia del primer dígito, pero ¿qué sabemos del segundo dígito? ¿Tiene alguna dependencia con la ocurrencia del primer dígito?\n",
    "\n",
    "Para ayudarnos a responder la pregunta, es necesario hacer un estudio de la ocurrencia de los números en los segundos dígitos en la muestra de datos anteriormente presentada.\n",
    "\n",
    "* Sea $A$ la ocurrencia del primer dígito. Sea $A_i$ la presencia del número $i = \\{ 1, 2, \\ldots, 9 \\}$ en el primer dígito. Ejemplo: en la magnitud 49274 ocurrió $A_4$.\n",
    "* Sea $B$ la ocurrencia del segundo dígito. Sea $B_j$ la presencia del número $j = \\{ 1, 2, \\ldots, 9 \\}$ en el segundo dígito. Ejemplo: en la magnitud 49274 ocurrió $B_9$.\n",
    "\n",
    "La probabilidad de que el segundo dígito sea, por ejemplo, 7, dado que el primer dígito fue 1 se enunciará como $P(B_7 \\mid A_1)$.\n",
    "\n",
    "* **(40 %)** Realice un estudio de todas las combinaciones de las probabilidades condicionales $P(B_j \\mid A_i)$ para el conjunto de datos estudiado aquí."
   ]
  },
  {
   "cell_type": "code",
   "execution_count": 877,
   "metadata": {},
   "outputs": [],
   "source": [
    "# Trabajo previo: Acomodar los datos para ser utilizados posteriormente.\n",
    "\n",
    "import numpy as np\n",
    "import pandas as pd\n",
    "\n",
    "lluvias = leerdatos('rainfall.csv', 'Poas')\n"
   ]
  },
  {
   "cell_type": "code",
   "execution_count": 878,
   "metadata": {},
   "outputs": [
    {
     "name": "stdout",
     "output_type": "stream",
     "text": [
      "1239\n",
      "<class 'numpy.ndarray'>\n"
     ]
    }
   ],
   "source": [
    "print(len(lluvias))\n",
    "print(type(lluvias))\n",
    "#print(lluvias[0:10]) este dato se usó para corroborar la funcionalidad."
   ]
  },
  {
   "cell_type": "code",
   "execution_count": 879,
   "metadata": {},
   "outputs": [
    {
     "name": "stdout",
     "output_type": "stream",
     "text": [
      "Vector de dos numeros: ['16' '19' '52' ... '30' '19' '12']\n"
     ]
    }
   ],
   "source": [
    "# Se procede a remover los ceros.\n",
    "nocero = lluvias[np.nonzero(lluvias)] #cambiar el nombre de sinceros a otro\n",
    "#print( 'Sin ceros:', nocero[0:10]) este dato se usó para corroborar la funcionalidad.\n",
    "#print(len(nocero)) \n",
    "\n",
    "decima_less = nocero*100\n",
    "#print('Al menos dos cifras antes del punto:', sindecimales[0:10])\n",
    "\n",
    "#Debido a que no se puede analizar digito por digito en formato de números, se procede a cambiar el formato a caracteres.\n",
    "\n",
    "#Pasando de formato de números a formato de caracteres.\n",
    "letras = decima_less.astype(str)\n",
    "#print(letras[0:10])\n",
    "\n",
    "'''Como se buscan solo los dos primeros digitos, se creará un vector en el que se van a acumular los\n",
    "dos primeros digitos de cada número'''\n",
    "\n",
    "digidos = np.empty(np.shape(letras))\n",
    "for i, c in enumerate(letras):\n",
    "    digidos[i] = c[0] + c[1]\n",
    "#print('Dos digitos son:', digidos[0:10])\n",
    "\n",
    "\n",
    "#Hay que pasar el vector resultante una vez más a un vector de tipo caracter.\n",
    "\n",
    "nums = digidos.astype(int).astype(str)\n",
    "#print('Vector de dos numeros:', nums[0:10])\n",
    "print('Vector de dos numeros:', nums)"
   ]
  },
  {
   "cell_type": "code",
   "execution_count": 880,
   "metadata": {},
   "outputs": [
    {
     "name": "stdout",
     "output_type": "stream",
     "text": [
      "[[0.1344086  0.09946237 0.1155914  0.13978495 0.09946237 0.08870968\n",
      "  0.05376344 0.06989247 0.07258065]\n",
      " [0.11363636 0.08522727 0.07954545 0.11363636 0.11931818 0.09659091\n",
      "  0.06818182 0.05681818 0.09090909]\n",
      " [0.125      0.06730769 0.04807692 0.08653846 0.09615385 0.04807692\n",
      "  0.08653846 0.14423077 0.11538462]\n",
      " [0.02912621 0.04854369 0.10679612 0.06796117 0.13592233 0.09708738\n",
      "  0.11650485 0.09708738 0.0776699 ]\n",
      " [0.07692308 0.12820513 0.05128205 0.07692308 0.12820513 0.11538462\n",
      "  0.07692308 0.08974359 0.1025641 ]\n",
      " [0.09230769 0.16923077 0.10769231 0.10769231 0.09230769 0.04615385\n",
      "  0.04615385 0.09230769 0.07692308]\n",
      " [0.05084746 0.05084746 0.10169492 0.16949153 0.13559322 0.15254237\n",
      "  0.03389831 0.08474576 0.06779661]\n",
      " [0.07692308 0.06153846 0.03076923 0.09230769 0.15384615 0.09230769\n",
      "  0.04615385 0.13846154 0.10769231]\n",
      " [0.06666667 0.11666667 0.1        0.13333333 0.06666667 0.11666667\n",
      "  0.05       0.11666667 0.08333333]]\n"
     ]
    }
   ],
   "source": [
    "#Analizando la primera parte del proyecto:\n",
    "\n",
    "'''\n",
    "Datos y notas que considerar:\n",
    "Hay que calcular la probabilidad condicional:\n",
    "P(B | A) = P(A n B) / P(A)\n",
    "P(A n B) es la probabilidad de la interseccion, hay que averiguarla\n",
    "P(A) es la probabilidad de A, ya esta en la nota teorica\n",
    "P(A n B) = P(A) P(B | A)\n",
    "n(A n B) / n(A) es el numero de ocurrencias coincidentes de A y B entre el numero de ocurrencias de A\n",
    "P(A n B) / P(A) = n(A n B) / n(A)\n",
    "n(A) ya estan en la nota teorica\n",
    "'''\n",
    "\n",
    "#Datos a analizar\n",
    "\n",
    "#Estableciendo los posibles valores del primer dígito:\n",
    "\n",
    "I = ['1','2','3','4','5','6','7','8','9']\n",
    "\n",
    "#Estableciendo los posibles valores del segundo dígito (no se incluye el cero debido a que el enunciado no lo especica):\n",
    "\n",
    "J = ['1','2','3','4','5','6','7','8','9']\n",
    "\n",
    "#Número de ocurrencias de A (tomado de la nota teórica)\n",
    "nA = [372, 176, 104, 103, 78, 65, 59, 65, 60]\n",
    "\n",
    "\n",
    "\n",
    "Bejota_Asubi = np.zeros((len(I), len(J)))\n",
    "\n",
    "\n",
    "#recorriendo las combinaciones\n",
    "\n",
    "for i, fila in enumerate(I):\n",
    "    for j, columna in enumerate(J):\n",
    "         nAB = 0\n",
    "         for d in letras:\n",
    "             if d[0] == fila and d[1] == columna:\n",
    "                    nAB += 1\n",
    "         try:\n",
    "             Bejota_Asubi[i,j] = nAB / nA[i]\n",
    "         except:\n",
    "             Bejota_Asubi[i,j] = np.NaN\n",
    "print(Bejota_Asubi)"
   ]
  },
  {
   "cell_type": "code",
   "execution_count": 881,
   "metadata": {},
   "outputs": [
    {
     "name": "stdout",
     "output_type": "stream",
     "text": [
      "P(1 | 1) = 0.13440860215053763 = 13.441%\n",
      "P(2 | 1) = 0.09946236559139784 = 9.946%\n",
      "P(3 | 1) = 0.11559139784946236 = 11.559%\n",
      "P(4 | 1) = 0.13978494623655913 = 13.978%\n",
      "P(5 | 1) = 0.09946236559139784 = 9.946%\n",
      "P(6 | 1) = 0.08870967741935484 = 8.871%\n",
      "P(7 | 1) = 0.053763440860215055 = 5.376%\n",
      "P(8 | 1) = 0.06989247311827956 = 6.989%\n",
      "P(9 | 1) = 0.07258064516129033 = 7.258%\n",
      "P(1 | 2) = 0.11363636363636363 = 11.364%\n",
      "P(2 | 2) = 0.08522727272727272 = 8.523%\n",
      "P(3 | 2) = 0.07954545454545454 = 7.955%\n",
      "P(4 | 2) = 0.11363636363636363 = 11.364%\n",
      "P(5 | 2) = 0.11931818181818182 = 11.932%\n",
      "P(6 | 2) = 0.09659090909090909 = 9.659%\n",
      "P(7 | 2) = 0.06818181818181818 = 6.818%\n",
      "P(8 | 2) = 0.056818181818181816 = 5.682%\n",
      "P(9 | 2) = 0.09090909090909091 = 9.091%\n",
      "P(1 | 3) = 0.125 = 12.5%\n",
      "P(2 | 3) = 0.0673076923076923 = 6.731%\n",
      "P(3 | 3) = 0.04807692307692308 = 4.808%\n",
      "P(4 | 3) = 0.08653846153846154 = 8.654%\n",
      "P(5 | 3) = 0.09615384615384616 = 9.615%\n",
      "P(6 | 3) = 0.04807692307692308 = 4.808%\n",
      "P(7 | 3) = 0.08653846153846154 = 8.654%\n",
      "P(8 | 3) = 0.14423076923076922 = 14.423%\n",
      "P(9 | 3) = 0.11538461538461539 = 11.538%\n",
      "P(1 | 4) = 0.02912621359223301 = 2.913%\n",
      "P(2 | 4) = 0.04854368932038835 = 4.854%\n",
      "P(3 | 4) = 0.10679611650485436 = 10.68%\n",
      "P(4 | 4) = 0.06796116504854369 = 6.796%\n",
      "P(5 | 4) = 0.13592233009708737 = 13.592%\n",
      "P(6 | 4) = 0.0970873786407767 = 9.709%\n",
      "P(7 | 4) = 0.11650485436893204 = 11.65%\n",
      "P(8 | 4) = 0.0970873786407767 = 9.709%\n",
      "P(9 | 4) = 0.07766990291262135 = 7.767%\n",
      "P(1 | 5) = 0.07692307692307693 = 7.692%\n",
      "P(2 | 5) = 0.1282051282051282 = 12.821%\n",
      "P(3 | 5) = 0.05128205128205128 = 5.128%\n",
      "P(4 | 5) = 0.07692307692307693 = 7.692%\n",
      "P(5 | 5) = 0.1282051282051282 = 12.821%\n",
      "P(6 | 5) = 0.11538461538461539 = 11.538%\n",
      "P(7 | 5) = 0.07692307692307693 = 7.692%\n",
      "P(8 | 5) = 0.08974358974358974 = 8.974%\n",
      "P(9 | 5) = 0.10256410256410256 = 10.256%\n",
      "P(1 | 6) = 0.09230769230769231 = 9.231%\n",
      "P(2 | 6) = 0.16923076923076924 = 16.923%\n",
      "P(3 | 6) = 0.1076923076923077 = 10.769%\n",
      "P(4 | 6) = 0.1076923076923077 = 10.769%\n",
      "P(5 | 6) = 0.09230769230769231 = 9.231%\n",
      "P(6 | 6) = 0.046153846153846156 = 4.615%\n",
      "P(7 | 6) = 0.046153846153846156 = 4.615%\n",
      "P(8 | 6) = 0.09230769230769231 = 9.231%\n",
      "P(9 | 6) = 0.07692307692307693 = 7.692%\n",
      "P(1 | 7) = 0.05084745762711865 = 5.085%\n",
      "P(2 | 7) = 0.05084745762711865 = 5.085%\n",
      "P(3 | 7) = 0.1016949152542373 = 10.169%\n",
      "P(4 | 7) = 0.1694915254237288 = 16.949%\n",
      "P(5 | 7) = 0.13559322033898305 = 13.559%\n",
      "P(6 | 7) = 0.15254237288135594 = 15.254%\n",
      "P(7 | 7) = 0.03389830508474576 = 3.39%\n",
      "P(8 | 7) = 0.0847457627118644 = 8.475%\n",
      "P(9 | 7) = 0.06779661016949153 = 6.78%\n",
      "P(1 | 8) = 0.07692307692307693 = 7.692%\n",
      "P(2 | 8) = 0.06153846153846154 = 6.154%\n",
      "P(3 | 8) = 0.03076923076923077 = 3.077%\n",
      "P(4 | 8) = 0.09230769230769231 = 9.231%\n",
      "P(5 | 8) = 0.15384615384615385 = 15.385%\n",
      "P(6 | 8) = 0.09230769230769231 = 9.231%\n",
      "P(7 | 8) = 0.046153846153846156 = 4.615%\n",
      "P(8 | 8) = 0.13846153846153847 = 13.846%\n",
      "P(9 | 8) = 0.1076923076923077 = 10.769%\n",
      "P(1 | 9) = 0.06666666666666667 = 6.667%\n",
      "P(2 | 9) = 0.11666666666666667 = 11.667%\n",
      "P(3 | 9) = 0.1 = 10.0%\n",
      "P(4 | 9) = 0.13333333333333333 = 13.333%\n",
      "P(5 | 9) = 0.06666666666666667 = 6.667%\n",
      "P(6 | 9) = 0.11666666666666667 = 11.667%\n",
      "P(7 | 9) = 0.05 = 5.0%\n",
      "P(8 | 9) = 0.11666666666666667 = 11.667%\n",
      "P(9 | 9) = 0.08333333333333333 = 8.333%\n"
     ]
    }
   ],
   "source": [
    "# Mostrando las probabilidades condicionales de una manera mas comprensible:\n",
    "for i, fila in enumerate(I):\n",
    "    for j, columna in enumerate(J):\n",
    "        respuesta = Bj_Ai[i, j]\n",
    "        respuesta_porcentaje = round(respuesta*100,3)\n",
    "        print(f'P({columna} | {fila}) = {respuesta} = {respuesta_porcentaje}%')"
   ]
  },
  {
   "cell_type": "markdown",
   "metadata": {},
   "source": [
    "### 2.2. - Hallazgos de las probabilidades condicionales de los segundos dígitos\n",
    "\n",
    "¿Cuál es nuestra intuición respecto al problema anterior? ¿Son los segundos dígitos independientes del primer dígito? ¿Cumplen con cierta variación de la ley de Benford?\n",
    "\n",
    "* **(20 %)** Genere gráficas apropiadas para mostrar la relación de dependencia que tiene o no tiene $B_j$ con $A_i$."
   ]
  },
  {
   "cell_type": "code",
   "execution_count": 882,
   "metadata": {},
   "outputs": [
    {
     "data": {
      "text/plain": [
       "Text(0, 0.5, '$P(B_1 \\\\mid A_i)$')"
      ]
     },
     "execution_count": 882,
     "metadata": {},
     "output_type": "execute_result"
    },
    {
     "data": {
      "image/png": "[encoded data removed]",
      "text/plain": [
       "<Figure size 432x288 with 1 Axes>"
      ]
     },
     "metadata": {
      "needs_background": "light"
     },
     "output_type": "display_data"
    }
   ],
   "source": [
    "# Segunda parte\n",
    "\n",
    "import matplotlib.pyplot as plt\n",
    "\n",
    "j = 1\n",
    "plt.bar(I, Bejota_Asubi[:,j-1])\n",
    "plt.title('Probabilidad de $B_{}$ dado $A_i$'.format(j))\n",
    "plt.xlabel('$i$')\n",
    "plt.ylabel('$P(B_{} \\mid A_i)$'.format(j))"
   ]
  },
  {
   "cell_type": "code",
   "execution_count": 883,
   "metadata": {},
   "outputs": [
    {
     "data": {
      "text/plain": [
       "Text(0, 0.5, '$P(B_2 \\\\mid A_i)$')"
      ]
     },
     "execution_count": 883,
     "metadata": {},
     "output_type": "execute_result"
    },
    {
     "data": {
      "image/png": "[encoded data removed]",
      "text/plain": [
       "<Figure size 432x288 with 1 Axes>"
      ]
     },
     "metadata": {
      "needs_background": "light"
     },
     "output_type": "display_data"
    }
   ],
   "source": [
    "import matplotlib.pyplot as plt\n",
    "\n",
    "j = 2\n",
    "plt.bar(I, Bejota_Asubi[:,j-1])\n",
    "plt.title('Probabilidad de $B_{}$ dado $A_i$'.format(j))\n",
    "plt.xlabel('$i$')\n",
    "plt.ylabel('$P(B_{} \\mid A_i)$'.format(j))"
   ]
  },
  {
   "cell_type": "code",
   "execution_count": 884,
   "metadata": {},
   "outputs": [
    {
     "data": {
      "text/plain": [
       "Text(0, 0.5, '$P(B_3 \\\\mid A_i)$')"
      ]
     },
     "execution_count": 884,
     "metadata": {},
     "output_type": "execute_result"
    },
    {
     "data": {
      "image/png": "[encoded data removed]",
      "text/plain": [
       "<Figure size 432x288 with 1 Axes>"
      ]
     },
     "metadata": {
      "needs_background": "light"
     },
     "output_type": "display_data"
    }
   ],
   "source": [
    "# Segunda parte\n",
    "\n",
    "import matplotlib.pyplot as plt\n",
    "\n",
    "j = 3\n",
    "plt.bar(I, Bejota_Asubi[:,j-1])\n",
    "plt.title('Probabilidad de $B_{}$ dado $A_i$'.format(j))\n",
    "plt.xlabel('$i$')\n",
    "plt.ylabel('$P(B_{} \\mid A_i)$'.format(j))"
   ]
  },
  {
   "cell_type": "code",
   "execution_count": 885,
   "metadata": {},
   "outputs": [
    {
     "data": {
      "text/plain": [
       "Text(0, 0.5, '$P(B_4 \\\\mid A_i)$')"
      ]
     },
     "execution_count": 885,
     "metadata": {},
     "output_type": "execute_result"
    },
    {
     "data": {
      "image/png": "[encoded data removed]",
      "text/plain": [
       "<Figure size 432x288 with 1 Axes>"
      ]
     },
     "metadata": {
      "needs_background": "light"
     },
     "output_type": "display_data"
    }
   ],
   "source": [
    "import matplotlib.pyplot as plt\n",
    "\n",
    "j = 4\n",
    "plt.bar(I, Bejota_Asubi[:,j-1])\n",
    "plt.title('Probabilidad de $B_{}$ dado $A_i$'.format(j))\n",
    "plt.xlabel('$i$')\n",
    "plt.ylabel('$P(B_{} \\mid A_i)$'.format(j))"
   ]
  },
  {
   "cell_type": "code",
   "execution_count": 886,
   "metadata": {},
   "outputs": [
    {
     "data": {
      "text/plain": [
       "Text(0, 0.5, '$P(B_5 \\\\mid A_i)$')"
      ]
     },
     "execution_count": 886,
     "metadata": {},
     "output_type": "execute_result"
    },
    {
     "data": {
      "image/png": "[encoded data removed]",
      "text/plain": [
       "<Figure size 432x288 with 1 Axes>"
      ]
     },
     "metadata": {
      "needs_background": "light"
     },
     "output_type": "display_data"
    }
   ],
   "source": [
    "import matplotlib.pyplot as plt\n",
    "\n",
    "j = 5\n",
    "plt.bar(I, Bejota_Asubi[:,j-1])\n",
    "plt.title('Probabilidad de $B_{}$ dado $A_i$'.format(j))\n",
    "plt.xlabel('$i$')\n",
    "plt.ylabel('$P(B_{} \\mid A_i)$'.format(j))"
   ]
  },
  {
   "cell_type": "code",
   "execution_count": 887,
   "metadata": {},
   "outputs": [
    {
     "data": {
      "text/plain": [
       "'Opinion al respecto: No hay una relación entre el segundo número y el primero. Como se puede ver en las gráficas, para ninguna de las tablas que muestran los valores de B (1,2,...,9) dados Ai se pueden observar resultados siguiendo algún tipo de estructura que no sea la aleatoria. Por otra parte, tampoco cumplen con cierta variación de la ley de Benford porque la ley de Benford estipula que el primer digito presenta mayor frecuencia que el subsiguiente, cosa que no sucede en este análisis, las que se muestran son secuencias aleatorias.'"
      ]
     },
     "execution_count": 887,
     "metadata": {},
     "output_type": "execute_result"
    }
   ],
   "source": [
    "'''Opinion al respecto: No hay una relación entre el segundo número y el primero. Como se puede ver en las gráficas, para ninguna de las tablas que muestran los valores de B (1,2,...,9) dados Ai se pueden observar resultados siguiendo algún tipo de estructura que no sea la aleatoria. Por otra parte, tampoco cumplen con cierta variación de la ley de Benford porque la ley de Benford estipula que el primer digito presenta mayor frecuencia que el subsiguiente, cosa que no sucede en este análisis, las que se muestran son secuencias aleatorias.'''"
   ]
  },
  {
   "cell_type": "markdown",
   "metadata": {},
   "source": [
    "### 2.3. - Probabilidad condicional inversa\n",
    "\n",
    "Es posible invertir la pregunta (como lo hace el teorema de Bayes) y cuestionarse: dada la ocurrencia de $B_j$, ¿que probabilidades existen de que ocurriera $A_i$?\n",
    "\n",
    "Esta pregunta podría revelar alguna otra \"anomalía\" contraintuitiva como la que describe originalmente la ley de Benford.\n",
    "\n",
    "Sea su carné LNNNNN, donde L es una letra y N un dígito decimal. Sea X = el último dígito N no nulo ($\\neq 0$) y sea Y = el penúltimo dígito N no nulo. Ejemplo: para B16009, X = 9 y Y = 6.\n",
    "\n",
    "* **(40 %)** Calcular la probabilidad de que en el conjunto grande de magnitudes utilizado el primer dígito sea X, dado que el segundo dígito fue Y."
   ]
  },
  {
   "cell_type": "code",
   "execution_count": 888,
   "metadata": {},
   "outputs": [
    {
     "name": "stdout",
     "output_type": "stream",
     "text": [
      "Por la Ley de Bayes, La probabilidad de ocurriera A3 dada la ocurrencia B3, es de: 0.004715379682372025 %\n"
     ]
    }
   ],
   "source": [
    "# Tercera parte\n",
    "\n",
    "#Mi carné es A43333 por lo que i=3 y j=3\n",
    "#La probabilidad que debo buscar es P(A_3 | B_3)\n",
    "\n",
    "Pa = prob_ocurrencias[2]\n",
    "\n",
    "B3 = list(())\n",
    "for posicionB in letras:\n",
    "    if posicionB[1] == '3':\n",
    "        B3.append(posicionB)\n",
    "\n",
    "Pb = len(B3)\n",
    "\n",
    "PBnA = Bejota_Asubi[2,2]\n",
    "\n",
    "#Bayes\n",
    "\n",
    "PAnB = (100*((Pa*PBnA)/Pb))\n",
    "\n",
    "print('Por la Ley de Bayes, La probabilidad de ocurriera A3 dada la ocurrencia B3, es de:', PAnB, '%')"
   ]
  },
  {
   "cell_type": "markdown",
   "metadata": {},
   "source": [
    "---\n",
    "\n",
    "### Universidad de Costa Rica\n",
    "#### Facultad de Ingeniería\n",
    "##### Escuela de Ingeniería Eléctrica\n",
    "\n",
    "---"
   ]
  }
 ],
 "metadata": {
  "kernelspec": {
   "display_name": "Python 3",
   "language": "python",
   "name": "python3"
  },
  "language_info": {
   "codemirror_mode": {
    "name": "ipython",
    "version": 3
   },
   "file_extension": ".py",
   "mimetype": "text/x-python",
   "name": "python",
   "nbconvert_exporter": "python",
   "pygments_lexer": "ipython3",
   "version": "3.8.3"
  }
 },
 "nbformat": 4,
 "nbformat_minor": 2
}
